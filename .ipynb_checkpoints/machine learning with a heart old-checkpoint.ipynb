{
 "cells": [
  {
   "cell_type": "code",
   "execution_count": 1,
   "metadata": {},
   "outputs": [],
   "source": [
    "import numpy as np \n",
    "import pandas as pd\n",
    "from sklearn import preprocessing\n",
    "from sklearn.metrics import log_loss\n",
    "import seaborn as sns \n",
    "import matplotlib.pyplot as plt\n",
    "from sklearn.model_selection import KFold\n",
    "from sklearn.neighbors import KNeighborsClassifier\n",
    "from sklearn.linear_model import LogisticRegression\n",
    "from sklearn.preprocessing import StandardScaler\n",
    "from sklearn.model_selection import train_test_split\n",
    "from sklearn.metrics import accuracy_score\n",
    "from sklearn.ensemble import RandomForestClassifier\n",
    "from sklearn.tree import DecisionTreeClassifier\n",
    "from sklearn.preprocessing import PolynomialFeatures\n",
    "from sklearn.ensemble import RandomForestClassifier, AdaBoostClassifier, GradientBoostingClassifier, ExtraTreesClassifier"
   ]
  },
  {
   "cell_type": "code",
   "execution_count": 14,
   "metadata": {},
   "outputs": [
    {
     "data": {
      "text/plain": [
       "((180, 14), (180, 2))"
      ]
     },
     "execution_count": 14,
     "metadata": {},
     "output_type": "execute_result"
    }
   ],
   "source": [
    "train= pd.read_csv(\"C://Users/Saba Naseem/Desktop/Data Driven/Machine Learning with a Heart/train_values.csv\")\n",
    "labels=pd.read_csv(\"C://Users/Saba Naseem/Desktop/Data Driven/Machine Learning with a Heart/train_labels.csv\")\n",
    "test=pd.read_csv(\"C://Users/Saba Naseem/Desktop/Data Driven/Machine Learning with a Heart/test_values.csv\")\n",
    "train.shape, labels.shape"
   ]
  },
  {
   "cell_type": "code",
   "execution_count": 15,
   "metadata": {},
   "outputs": [
    {
     "data": {
      "text/html": [
       "<div>\n",
       "<style scoped>\n",
       "    .dataframe tbody tr th:only-of-type {\n",
       "        vertical-align: middle;\n",
       "    }\n",
       "\n",
       "    .dataframe tbody tr th {\n",
       "        vertical-align: top;\n",
       "    }\n",
       "\n",
       "    .dataframe thead th {\n",
       "        text-align: right;\n",
       "    }\n",
       "</style>\n",
       "<table border=\"1\" class=\"dataframe\">\n",
       "  <thead>\n",
       "    <tr style=\"text-align: right;\">\n",
       "      <th></th>\n",
       "      <th>patient_id</th>\n",
       "      <th>slope_of_peak_exercise_st_segment</th>\n",
       "      <th>thal</th>\n",
       "      <th>resting_blood_pressure</th>\n",
       "      <th>chest_pain_type</th>\n",
       "      <th>num_major_vessels</th>\n",
       "      <th>fasting_blood_sugar_gt_120_mg_per_dl</th>\n",
       "      <th>resting_ekg_results</th>\n",
       "      <th>serum_cholesterol_mg_per_dl</th>\n",
       "      <th>oldpeak_eq_st_depression</th>\n",
       "      <th>sex</th>\n",
       "      <th>age</th>\n",
       "      <th>max_heart_rate_achieved</th>\n",
       "      <th>exercise_induced_angina</th>\n",
       "    </tr>\n",
       "  </thead>\n",
       "  <tbody>\n",
       "    <tr>\n",
       "      <th>0</th>\n",
       "      <td>0z64un</td>\n",
       "      <td>1</td>\n",
       "      <td>normal</td>\n",
       "      <td>128</td>\n",
       "      <td>2</td>\n",
       "      <td>0</td>\n",
       "      <td>0</td>\n",
       "      <td>2</td>\n",
       "      <td>308</td>\n",
       "      <td>0.0</td>\n",
       "      <td>1</td>\n",
       "      <td>45</td>\n",
       "      <td>170</td>\n",
       "      <td>0</td>\n",
       "    </tr>\n",
       "    <tr>\n",
       "      <th>1</th>\n",
       "      <td>ryoo3j</td>\n",
       "      <td>2</td>\n",
       "      <td>normal</td>\n",
       "      <td>110</td>\n",
       "      <td>3</td>\n",
       "      <td>0</td>\n",
       "      <td>0</td>\n",
       "      <td>0</td>\n",
       "      <td>214</td>\n",
       "      <td>1.6</td>\n",
       "      <td>0</td>\n",
       "      <td>54</td>\n",
       "      <td>158</td>\n",
       "      <td>0</td>\n",
       "    </tr>\n",
       "    <tr>\n",
       "      <th>2</th>\n",
       "      <td>yt1s1x</td>\n",
       "      <td>1</td>\n",
       "      <td>normal</td>\n",
       "      <td>125</td>\n",
       "      <td>4</td>\n",
       "      <td>3</td>\n",
       "      <td>0</td>\n",
       "      <td>2</td>\n",
       "      <td>304</td>\n",
       "      <td>0.0</td>\n",
       "      <td>1</td>\n",
       "      <td>77</td>\n",
       "      <td>162</td>\n",
       "      <td>1</td>\n",
       "    </tr>\n",
       "    <tr>\n",
       "      <th>3</th>\n",
       "      <td>l2xjde</td>\n",
       "      <td>1</td>\n",
       "      <td>reversible_defect</td>\n",
       "      <td>152</td>\n",
       "      <td>4</td>\n",
       "      <td>0</td>\n",
       "      <td>0</td>\n",
       "      <td>0</td>\n",
       "      <td>223</td>\n",
       "      <td>0.0</td>\n",
       "      <td>1</td>\n",
       "      <td>40</td>\n",
       "      <td>181</td>\n",
       "      <td>0</td>\n",
       "    </tr>\n",
       "    <tr>\n",
       "      <th>4</th>\n",
       "      <td>oyt4ek</td>\n",
       "      <td>3</td>\n",
       "      <td>reversible_defect</td>\n",
       "      <td>178</td>\n",
       "      <td>1</td>\n",
       "      <td>0</td>\n",
       "      <td>0</td>\n",
       "      <td>2</td>\n",
       "      <td>270</td>\n",
       "      <td>4.2</td>\n",
       "      <td>1</td>\n",
       "      <td>59</td>\n",
       "      <td>145</td>\n",
       "      <td>0</td>\n",
       "    </tr>\n",
       "  </tbody>\n",
       "</table>\n",
       "</div>"
      ],
      "text/plain": [
       "  patient_id  slope_of_peak_exercise_st_segment               thal  \\\n",
       "0     0z64un                                  1             normal   \n",
       "1     ryoo3j                                  2             normal   \n",
       "2     yt1s1x                                  1             normal   \n",
       "3     l2xjde                                  1  reversible_defect   \n",
       "4     oyt4ek                                  3  reversible_defect   \n",
       "\n",
       "   resting_blood_pressure  chest_pain_type  num_major_vessels  \\\n",
       "0                     128                2                  0   \n",
       "1                     110                3                  0   \n",
       "2                     125                4                  3   \n",
       "3                     152                4                  0   \n",
       "4                     178                1                  0   \n",
       "\n",
       "   fasting_blood_sugar_gt_120_mg_per_dl  resting_ekg_results  \\\n",
       "0                                     0                    2   \n",
       "1                                     0                    0   \n",
       "2                                     0                    2   \n",
       "3                                     0                    0   \n",
       "4                                     0                    2   \n",
       "\n",
       "   serum_cholesterol_mg_per_dl  oldpeak_eq_st_depression  sex  age  \\\n",
       "0                          308                       0.0    1   45   \n",
       "1                          214                       1.6    0   54   \n",
       "2                          304                       0.0    1   77   \n",
       "3                          223                       0.0    1   40   \n",
       "4                          270                       4.2    1   59   \n",
       "\n",
       "   max_heart_rate_achieved  exercise_induced_angina  \n",
       "0                      170                        0  \n",
       "1                      158                        0  \n",
       "2                      162                        1  \n",
       "3                      181                        0  \n",
       "4                      145                        0  "
      ]
     },
     "execution_count": 15,
     "metadata": {},
     "output_type": "execute_result"
    }
   ],
   "source": [
    "train.head()"
   ]
  },
  {
   "cell_type": "code",
   "execution_count": 16,
   "metadata": {},
   "outputs": [],
   "source": [
    "\n",
    "labels.drop('patient_id', axis=1, inplace=True)\n",
    "df= pd.concat([train, labels], axis=1)\n",
    "\n",
    "df.drop(['patient_id'], axis=1, inplace=True)"
   ]
  },
  {
   "cell_type": "code",
   "execution_count": 5,
   "metadata": {},
   "outputs": [
    {
     "data": {
      "text/html": [
       "<div>\n",
       "<style scoped>\n",
       "    .dataframe tbody tr th:only-of-type {\n",
       "        vertical-align: middle;\n",
       "    }\n",
       "\n",
       "    .dataframe tbody tr th {\n",
       "        vertical-align: top;\n",
       "    }\n",
       "\n",
       "    .dataframe thead th {\n",
       "        text-align: right;\n",
       "    }\n",
       "</style>\n",
       "<table border=\"1\" class=\"dataframe\">\n",
       "  <thead>\n",
       "    <tr style=\"text-align: right;\">\n",
       "      <th></th>\n",
       "      <th>slope_of_peak_exercise_st_segment</th>\n",
       "      <th>thal</th>\n",
       "      <th>resting_blood_pressure</th>\n",
       "      <th>chest_pain_type</th>\n",
       "      <th>num_major_vessels</th>\n",
       "      <th>fasting_blood_sugar_gt_120_mg_per_dl</th>\n",
       "      <th>resting_ekg_results</th>\n",
       "      <th>serum_cholesterol_mg_per_dl</th>\n",
       "      <th>oldpeak_eq_st_depression</th>\n",
       "      <th>sex</th>\n",
       "      <th>age</th>\n",
       "      <th>max_heart_rate_achieved</th>\n",
       "      <th>exercise_induced_angina</th>\n",
       "      <th>heart_disease_present</th>\n",
       "    </tr>\n",
       "  </thead>\n",
       "  <tbody>\n",
       "    <tr>\n",
       "      <th>0</th>\n",
       "      <td>1</td>\n",
       "      <td>normal</td>\n",
       "      <td>128</td>\n",
       "      <td>2</td>\n",
       "      <td>0</td>\n",
       "      <td>0</td>\n",
       "      <td>2</td>\n",
       "      <td>308</td>\n",
       "      <td>0.0</td>\n",
       "      <td>1</td>\n",
       "      <td>45</td>\n",
       "      <td>170</td>\n",
       "      <td>0</td>\n",
       "      <td>0</td>\n",
       "    </tr>\n",
       "    <tr>\n",
       "      <th>1</th>\n",
       "      <td>2</td>\n",
       "      <td>normal</td>\n",
       "      <td>110</td>\n",
       "      <td>3</td>\n",
       "      <td>0</td>\n",
       "      <td>0</td>\n",
       "      <td>0</td>\n",
       "      <td>214</td>\n",
       "      <td>1.6</td>\n",
       "      <td>0</td>\n",
       "      <td>54</td>\n",
       "      <td>158</td>\n",
       "      <td>0</td>\n",
       "      <td>0</td>\n",
       "    </tr>\n",
       "    <tr>\n",
       "      <th>2</th>\n",
       "      <td>1</td>\n",
       "      <td>normal</td>\n",
       "      <td>125</td>\n",
       "      <td>4</td>\n",
       "      <td>3</td>\n",
       "      <td>0</td>\n",
       "      <td>2</td>\n",
       "      <td>304</td>\n",
       "      <td>0.0</td>\n",
       "      <td>1</td>\n",
       "      <td>77</td>\n",
       "      <td>162</td>\n",
       "      <td>1</td>\n",
       "      <td>1</td>\n",
       "    </tr>\n",
       "    <tr>\n",
       "      <th>3</th>\n",
       "      <td>1</td>\n",
       "      <td>reversible_defect</td>\n",
       "      <td>152</td>\n",
       "      <td>4</td>\n",
       "      <td>0</td>\n",
       "      <td>0</td>\n",
       "      <td>0</td>\n",
       "      <td>223</td>\n",
       "      <td>0.0</td>\n",
       "      <td>1</td>\n",
       "      <td>40</td>\n",
       "      <td>181</td>\n",
       "      <td>0</td>\n",
       "      <td>1</td>\n",
       "    </tr>\n",
       "    <tr>\n",
       "      <th>4</th>\n",
       "      <td>3</td>\n",
       "      <td>reversible_defect</td>\n",
       "      <td>178</td>\n",
       "      <td>1</td>\n",
       "      <td>0</td>\n",
       "      <td>0</td>\n",
       "      <td>2</td>\n",
       "      <td>270</td>\n",
       "      <td>4.2</td>\n",
       "      <td>1</td>\n",
       "      <td>59</td>\n",
       "      <td>145</td>\n",
       "      <td>0</td>\n",
       "      <td>0</td>\n",
       "    </tr>\n",
       "  </tbody>\n",
       "</table>\n",
       "</div>"
      ],
      "text/plain": [
       "   slope_of_peak_exercise_st_segment               thal  \\\n",
       "0                                  1             normal   \n",
       "1                                  2             normal   \n",
       "2                                  1             normal   \n",
       "3                                  1  reversible_defect   \n",
       "4                                  3  reversible_defect   \n",
       "\n",
       "   resting_blood_pressure  chest_pain_type  num_major_vessels  \\\n",
       "0                     128                2                  0   \n",
       "1                     110                3                  0   \n",
       "2                     125                4                  3   \n",
       "3                     152                4                  0   \n",
       "4                     178                1                  0   \n",
       "\n",
       "   fasting_blood_sugar_gt_120_mg_per_dl  resting_ekg_results  \\\n",
       "0                                     0                    2   \n",
       "1                                     0                    0   \n",
       "2                                     0                    2   \n",
       "3                                     0                    0   \n",
       "4                                     0                    2   \n",
       "\n",
       "   serum_cholesterol_mg_per_dl  oldpeak_eq_st_depression  sex  age  \\\n",
       "0                          308                       0.0    1   45   \n",
       "1                          214                       1.6    0   54   \n",
       "2                          304                       0.0    1   77   \n",
       "3                          223                       0.0    1   40   \n",
       "4                          270                       4.2    1   59   \n",
       "\n",
       "   max_heart_rate_achieved  exercise_induced_angina  heart_disease_present  \n",
       "0                      170                        0                      0  \n",
       "1                      158                        0                      0  \n",
       "2                      162                        1                      1  \n",
       "3                      181                        0                      1  \n",
       "4                      145                        0                      0  "
      ]
     },
     "execution_count": 5,
     "metadata": {},
     "output_type": "execute_result"
    }
   ],
   "source": [
    "df.head()"
   ]
  },
  {
   "cell_type": "code",
   "execution_count": 6,
   "metadata": {},
   "outputs": [],
   "source": [
    "df.loc[df['serum_cholesterol_mg_per_dl']<=150,'serum_cholesterol_mg_per_dl']=1\n",
    "df.loc[((df['serum_cholesterol_mg_per_dl']>150) & (df['serum_cholesterol_mg_per_dl']<=170)),'serum_cholesterol_mg_per_dl']=2\n",
    "df.loc[((df['serum_cholesterol_mg_per_dl']>170) & (df['serum_cholesterol_mg_per_dl']<=190)),'serum_cholesterol_mg_per_dl']=3\n",
    "df.loc[((df['serum_cholesterol_mg_per_dl']>190) & (df['serum_cholesterol_mg_per_dl']<=210)),'serum_cholesterol_mg_per_dl']=4\n",
    "df.loc[((df['serum_cholesterol_mg_per_dl']>210) & (df['serum_cholesterol_mg_per_dl']<=230)),'serum_cholesterol_mg_per_dl']=5\n",
    "df.loc[((df['serum_cholesterol_mg_per_dl']>230) & (df['serum_cholesterol_mg_per_dl']<=250)),'serum_cholesterol_mg_per_dl']=6\n",
    "df.loc[((df['serum_cholesterol_mg_per_dl']>250) & (df['serum_cholesterol_mg_per_dl']<=270)),'serum_cholesterol_mg_per_dl']=7\n",
    "\n",
    "df.loc[((df['serum_cholesterol_mg_per_dl']>270) & (df['serum_cholesterol_mg_per_dl']<=290)),'serum_cholesterol_mg_per_dl']=8\n",
    "df.loc[((df['serum_cholesterol_mg_per_dl']>290) & (df['serum_cholesterol_mg_per_dl']<=310)),'serum_cholesterol_mg_per_dl']=9\n",
    "df.loc[((df['serum_cholesterol_mg_per_dl']>310) & (df['serum_cholesterol_mg_per_dl']<=330)),'serum_cholesterol_mg_per_dl']=10\n",
    "df.loc[((df['serum_cholesterol_mg_per_dl']>330) & (df['serum_cholesterol_mg_per_dl']<=350)),'serum_cholesterol_mg_per_dl']=11\n",
    "df.loc[(df['serum_cholesterol_mg_per_dl']>350),'serum_cholesterol_mg_per_dl']=12"
   ]
  },
  {
   "cell_type": "code",
   "execution_count": 7,
   "metadata": {},
   "outputs": [
    {
     "data": {
      "text/plain": [
       "<matplotlib.axes._subplots.AxesSubplot at 0x19b45bcd908>"
      ]
     },
     "execution_count": 7,
     "metadata": {},
     "output_type": "execute_result"
    },
    {
     "data": {
      "image/png": "[encoded data removed]",
      "text/plain": [
       "<Figure size 432x288 with 1 Axes>"
      ]
     },
     "metadata": {},
     "output_type": "display_data"
    }
   ],
   "source": [
    "sns.countplot(df['serum_cholesterol_mg_per_dl'])"
   ]
  },
  {
   "cell_type": "code",
   "execution_count": 8,
   "metadata": {},
   "outputs": [],
   "source": [
    "df.loc[df['age']<=35,'age']=1\n",
    "df.loc[((df['age']>35) & (df['age']<=40)),'age']=2\n",
    "df.loc[((df['age']>40) & (df['age']<=45)),'age']=3\n",
    "df.loc[((df['age']>45) & (df['age']<=50)),'age']=4\n",
    "\n",
    "df.loc[((df['age']>50) & (df['age']<=55)),'age']=5\n",
    "df.loc[((df['age']>55) & (df['age']<=60)),'age']=6\n",
    "df.loc[((df['age']>60) & (df['age']<=65)),'age']=7\n",
    "df.loc[(df['age']>65),'age']=8"
   ]
  },
  {
   "cell_type": "code",
   "execution_count": 9,
   "metadata": {},
   "outputs": [
    {
     "data": {
      "text/plain": [
       "<matplotlib.axes._subplots.AxesSubplot at 0x19b46f33da0>"
      ]
     },
     "execution_count": 9,
     "metadata": {},
     "output_type": "execute_result"
    },
    {
     "data": {
      "image/png": "[encoded data removed]",
      "text/plain": [
       "<Figure size 432x288 with 1 Axes>"
      ]
     },
     "metadata": {},
     "output_type": "display_data"
    }
   ],
   "source": [
    "sns.countplot(df['age'])"
   ]
  },
  {
   "cell_type": "code",
   "execution_count": 10,
   "metadata": {},
   "outputs": [],
   "source": [
    "df.loc[df['max_heart_rate_achieved']<=130,'max_heart_rate_achieved']=1\n",
    "df.loc[((df['max_heart_rate_achieved']>130) & (df['max_heart_rate_achieved']<=140)),'max_heart_rate_achieved']=2\n",
    "df.loc[((df['max_heart_rate_achieved']>140) & (df['max_heart_rate_achieved']<=150)),'max_heart_rate_achieved']=3\n",
    "\n",
    "df.loc[((df['max_heart_rate_achieved']>150) & (df['max_heart_rate_achieved']<=160)),'max_heart_rate_achieved']=4\n",
    "df.loc[((df['max_heart_rate_achieved']>160) & (df['max_heart_rate_achieved']<=170)),'max_heart_rate_achieved']=5\n",
    "\n",
    "df.loc[((df['max_heart_rate_achieved']>170) & (df['max_heart_rate_achieved']<=180)),'max_heart_rate_achieved']=6\n",
    "\n",
    "df.loc[(df['max_heart_rate_achieved']>180),'max_heart_rate_achieved']=7"
   ]
  },
  {
   "cell_type": "code",
   "execution_count": 295,
   "metadata": {},
   "outputs": [
    {
     "data": {
      "text/plain": [
       "<matplotlib.axes._subplots.AxesSubplot at 0x1b2b0ac4fd0>"
      ]
     },
     "execution_count": 295,
     "metadata": {},
     "output_type": "execute_result"
    },
    {
     "data": {
      "image/png": "[encoded data removed]",
      "text/plain": [
       "<Figure size 432x288 with 1 Axes>"
      ]
     },
     "metadata": {},
     "output_type": "display_data"
    }
   ],
   "source": [
    "sns.countplot(df['max_heart_rate_achieved'])"
   ]
  },
  {
   "cell_type": "code",
   "execution_count": 325,
   "metadata": {},
   "outputs": [],
   "source": [
    "df.loc[((df['resting_blood_pressure']==120) | (df['resting_blood_pressure']==130) | (df['resting_blood_pressure']==140)),'resting_blood_pressure']=1"
   ]
  },
  {
   "cell_type": "code",
   "execution_count": 348,
   "metadata": {},
   "outputs": [
    {
     "data": {
      "text/plain": [
       "(94, 180)"
      ]
     },
     "execution_count": 348,
     "metadata": {},
     "output_type": "execute_result"
    }
   ],
   "source": [
    "df['resting_blood_pressure'].min(),df['resting_blood_pressure'].max()"
   ]
  },
  {
   "cell_type": "code",
   "execution_count": 353,
   "metadata": {},
   "outputs": [],
   "source": [
    "df.loc[df['resting_blood_pressure']<=100,'resting_blood_pressure']=1\n",
    "df.loc[((df['resting_blood_pressure']>100) & (df['resting_blood_pressure']<=110)),'resting_blood_pressure']=2\n",
    "df.loc[((df['resting_blood_pressure']>110) & (df['resting_blood_pressure']<=120)),'resting_blood_pressure']=3\n",
    "\n",
    "df.loc[((df['resting_blood_pressure']>120) & (df['resting_blood_pressure']<=130)),'resting_blood_pressure']=4\n",
    "df.loc[((df['resting_blood_pressure']>130) & (df['resting_blood_pressure']<=140)),'resting_blood_pressure']=5\n",
    "\n",
    "df.loc[((df['resting_blood_pressure']>140) & (df['resting_blood_pressure']<=150)),'resting_blood_pressure']=6\n",
    "df.loc[((df['resting_blood_pressure']>150) & (df['resting_blood_pressure']<=160)),'resting_blood_pressure']=7\n",
    "\n",
    "df.loc[((df['resting_blood_pressure']>160) & (df['resting_blood_pressure']<=170)),'resting_blood_pressure']=8\n",
    "df.loc[(df['resting_blood_pressure']>170),'resting_blood_pressure']=9"
   ]
  },
  {
   "cell_type": "code",
   "execution_count": 11,
   "metadata": {},
   "outputs": [
    {
     "data": {
      "text/plain": [
       "<matplotlib.axes._subplots.AxesSubplot at 0x19b47195a20>"
      ]
     },
     "execution_count": 11,
     "metadata": {},
     "output_type": "execute_result"
    },
    {
     "data": {
      "image/png": "[encoded data removed]",
      "text/plain": [
       "<Figure size 432x288 with 1 Axes>"
      ]
     },
     "metadata": {},
     "output_type": "display_data"
    }
   ],
   "source": [
    "sns.countplot(df['resting_blood_pressure'])"
   ]
  },
  {
   "cell_type": "code",
   "execution_count": 17,
   "metadata": {},
   "outputs": [],
   "source": [
    "df['thal']=df['thal'].map({'normal':1,'reversible_defect':2, 'fixed_defect':3 })"
   ]
  },
  {
   "cell_type": "code",
   "execution_count": 18,
   "metadata": {},
   "outputs": [
    {
     "data": {
      "text/html": [
       "<div>\n",
       "<style scoped>\n",
       "    .dataframe tbody tr th:only-of-type {\n",
       "        vertical-align: middle;\n",
       "    }\n",
       "\n",
       "    .dataframe tbody tr th {\n",
       "        vertical-align: top;\n",
       "    }\n",
       "\n",
       "    .dataframe thead th {\n",
       "        text-align: right;\n",
       "    }\n",
       "</style>\n",
       "<table border=\"1\" class=\"dataframe\">\n",
       "  <thead>\n",
       "    <tr style=\"text-align: right;\">\n",
       "      <th></th>\n",
       "      <th>slope_of_peak_exercise_st_segment</th>\n",
       "      <th>thal</th>\n",
       "      <th>resting_blood_pressure</th>\n",
       "      <th>chest_pain_type</th>\n",
       "      <th>num_major_vessels</th>\n",
       "      <th>fasting_blood_sugar_gt_120_mg_per_dl</th>\n",
       "      <th>resting_ekg_results</th>\n",
       "      <th>serum_cholesterol_mg_per_dl</th>\n",
       "      <th>oldpeak_eq_st_depression</th>\n",
       "      <th>sex</th>\n",
       "      <th>age</th>\n",
       "      <th>max_heart_rate_achieved</th>\n",
       "      <th>exercise_induced_angina</th>\n",
       "      <th>heart_disease_present</th>\n",
       "    </tr>\n",
       "  </thead>\n",
       "  <tbody>\n",
       "    <tr>\n",
       "      <th>0</th>\n",
       "      <td>1</td>\n",
       "      <td>1</td>\n",
       "      <td>128</td>\n",
       "      <td>2</td>\n",
       "      <td>0</td>\n",
       "      <td>0</td>\n",
       "      <td>2</td>\n",
       "      <td>308</td>\n",
       "      <td>0.0</td>\n",
       "      <td>1</td>\n",
       "      <td>45</td>\n",
       "      <td>170</td>\n",
       "      <td>0</td>\n",
       "      <td>0</td>\n",
       "    </tr>\n",
       "    <tr>\n",
       "      <th>1</th>\n",
       "      <td>2</td>\n",
       "      <td>1</td>\n",
       "      <td>110</td>\n",
       "      <td>3</td>\n",
       "      <td>0</td>\n",
       "      <td>0</td>\n",
       "      <td>0</td>\n",
       "      <td>214</td>\n",
       "      <td>1.6</td>\n",
       "      <td>0</td>\n",
       "      <td>54</td>\n",
       "      <td>158</td>\n",
       "      <td>0</td>\n",
       "      <td>0</td>\n",
       "    </tr>\n",
       "    <tr>\n",
       "      <th>2</th>\n",
       "      <td>1</td>\n",
       "      <td>1</td>\n",
       "      <td>125</td>\n",
       "      <td>4</td>\n",
       "      <td>3</td>\n",
       "      <td>0</td>\n",
       "      <td>2</td>\n",
       "      <td>304</td>\n",
       "      <td>0.0</td>\n",
       "      <td>1</td>\n",
       "      <td>77</td>\n",
       "      <td>162</td>\n",
       "      <td>1</td>\n",
       "      <td>1</td>\n",
       "    </tr>\n",
       "    <tr>\n",
       "      <th>3</th>\n",
       "      <td>1</td>\n",
       "      <td>2</td>\n",
       "      <td>152</td>\n",
       "      <td>4</td>\n",
       "      <td>0</td>\n",
       "      <td>0</td>\n",
       "      <td>0</td>\n",
       "      <td>223</td>\n",
       "      <td>0.0</td>\n",
       "      <td>1</td>\n",
       "      <td>40</td>\n",
       "      <td>181</td>\n",
       "      <td>0</td>\n",
       "      <td>1</td>\n",
       "    </tr>\n",
       "    <tr>\n",
       "      <th>4</th>\n",
       "      <td>3</td>\n",
       "      <td>2</td>\n",
       "      <td>178</td>\n",
       "      <td>1</td>\n",
       "      <td>0</td>\n",
       "      <td>0</td>\n",
       "      <td>2</td>\n",
       "      <td>270</td>\n",
       "      <td>4.2</td>\n",
       "      <td>1</td>\n",
       "      <td>59</td>\n",
       "      <td>145</td>\n",
       "      <td>0</td>\n",
       "      <td>0</td>\n",
       "    </tr>\n",
       "  </tbody>\n",
       "</table>\n",
       "</div>"
      ],
      "text/plain": [
       "   slope_of_peak_exercise_st_segment  thal  resting_blood_pressure  \\\n",
       "0                                  1     1                     128   \n",
       "1                                  2     1                     110   \n",
       "2                                  1     1                     125   \n",
       "3                                  1     2                     152   \n",
       "4                                  3     2                     178   \n",
       "\n",
       "   chest_pain_type  num_major_vessels  fasting_blood_sugar_gt_120_mg_per_dl  \\\n",
       "0                2                  0                                     0   \n",
       "1                3                  0                                     0   \n",
       "2                4                  3                                     0   \n",
       "3                4                  0                                     0   \n",
       "4                1                  0                                     0   \n",
       "\n",
       "   resting_ekg_results  serum_cholesterol_mg_per_dl  oldpeak_eq_st_depression  \\\n",
       "0                    2                          308                       0.0   \n",
       "1                    0                          214                       1.6   \n",
       "2                    2                          304                       0.0   \n",
       "3                    0                          223                       0.0   \n",
       "4                    2                          270                       4.2   \n",
       "\n",
       "   sex  age  max_heart_rate_achieved  exercise_induced_angina  \\\n",
       "0    1   45                      170                        0   \n",
       "1    0   54                      158                        0   \n",
       "2    1   77                      162                        1   \n",
       "3    1   40                      181                        0   \n",
       "4    1   59                      145                        0   \n",
       "\n",
       "   heart_disease_present  \n",
       "0                      0  \n",
       "1                      0  \n",
       "2                      1  \n",
       "3                      1  \n",
       "4                      0  "
      ]
     },
     "execution_count": 18,
     "metadata": {},
     "output_type": "execute_result"
    }
   ],
   "source": [
    "df.head()"
   ]
  },
  {
   "cell_type": "code",
   "execution_count": 19,
   "metadata": {},
   "outputs": [
    {
     "data": {
      "text/plain": [
       "Index(['slope_of_peak_exercise_st_segment', 'thal', 'resting_blood_pressure',\n",
       "       'chest_pain_type', 'num_major_vessels',\n",
       "       'fasting_blood_sugar_gt_120_mg_per_dl', 'resting_ekg_results',\n",
       "       'serum_cholesterol_mg_per_dl', 'oldpeak_eq_st_depression', 'sex', 'age',\n",
       "       'max_heart_rate_achieved', 'exercise_induced_angina',\n",
       "       'heart_disease_present'],\n",
       "      dtype='object')"
      ]
     },
     "execution_count": 19,
     "metadata": {},
     "output_type": "execute_result"
    }
   ],
   "source": [
    "names=df.columns\n",
    "names"
   ]
  },
  {
   "cell_type": "code",
   "execution_count": 20,
   "metadata": {},
   "outputs": [],
   "source": [
    "x=np.asarray(df[names[:-1]])\n",
    "y=np.asarray(df[names[-1]])"
   ]
  },
  {
   "cell_type": "code",
   "execution_count": 21,
   "metadata": {},
   "outputs": [],
   "source": [
    "scaler= StandardScaler()\n",
    "x=scaler.fit_transform(x)"
   ]
  },
  {
   "cell_type": "code",
   "execution_count": 22,
   "metadata": {},
   "outputs": [
    {
     "data": {
      "text/plain": [
       "((180, 13), (180,))"
      ]
     },
     "execution_count": 22,
     "metadata": {},
     "output_type": "execute_result"
    }
   ],
   "source": [
    "x.shape, y.shape"
   ]
  },
  {
   "cell_type": "code",
   "execution_count": 23,
   "metadata": {},
   "outputs": [
    {
     "data": {
      "text/plain": [
       "RandomForestClassifier(bootstrap=True, class_weight=None, criterion='gini',\n",
       "            max_depth=None, max_features='auto', max_leaf_nodes=None,\n",
       "            min_impurity_decrease=0.0, min_impurity_split=None,\n",
       "            min_samples_leaf=1, min_samples_split=2,\n",
       "            min_weight_fraction_leaf=0.0, n_estimators=50, n_jobs=1,\n",
       "            oob_score=False, random_state=None, verbose=0,\n",
       "            warm_start=False)"
      ]
     },
     "execution_count": 23,
     "metadata": {},
     "output_type": "execute_result"
    }
   ],
   "source": [
    "rf= RandomForestClassifier(n_estimators=50)\n",
    "rf.fit(x,y)"
   ]
  },
  {
   "cell_type": "code",
   "execution_count": 26,
   "metadata": {},
   "outputs": [
    {
     "data": {
      "text/plain": [
       "([<matplotlib.axis.XTick at 0x19b474c9f98>,\n",
       "  <matplotlib.axis.XTick at 0x19b474c9898>,\n",
       "  <matplotlib.axis.XTick at 0x19b474c9630>,\n",
       "  <matplotlib.axis.XTick at 0x19b474ec400>,\n",
       "  <matplotlib.axis.XTick at 0x19b474ec8d0>,\n",
       "  <matplotlib.axis.XTick at 0x19b474ecda0>,\n",
       "  <matplotlib.axis.XTick at 0x19b474f42b0>,\n",
       "  <matplotlib.axis.XTick at 0x19b474f4780>,\n",
       "  <matplotlib.axis.XTick at 0x19b474f4c50>,\n",
       "  <matplotlib.axis.XTick at 0x19b474fd198>,\n",
       "  <matplotlib.axis.XTick at 0x19b474f46d8>,\n",
       "  <matplotlib.axis.XTick at 0x19b474ec978>,\n",
       "  <matplotlib.axis.XTick at 0x19b474fd828>],\n",
       " <a list of 13 Text xticklabel objects>)"
      ]
     },
     "execution_count": 26,
     "metadata": {},
     "output_type": "execute_result"
    },
    {
     "data": {
      "image/png": "[encoded data removed]",
      "text/plain": [
       "<Figure size 1080x360 with 1 Axes>"
      ]
     },
     "metadata": {},
     "output_type": "display_data"
    }
   ],
   "source": [
    "plt.figure(figsize=[15,5])\n",
    "plt.plot(rf.feature_importances_)\n",
    "plt.xticks(np.arange(df.shape[1]-1), train.columns.tolist(), rotation=90)"
   ]
  },
  {
   "cell_type": "code",
   "execution_count": 27,
   "metadata": {},
   "outputs": [
    {
     "data": {
      "text/plain": [
       "<matplotlib.axes._subplots.AxesSubplot at 0x19b47356e10>"
      ]
     },
     "execution_count": 27,
     "metadata": {},
     "output_type": "execute_result"
    },
    {
     "data": {
      "image/png": "[encoded data removed]",
      "text/plain": [
       "<Figure size 432x288 with 1 Axes>"
      ]
     },
     "metadata": {},
     "output_type": "display_data"
    }
   ],
   "source": [
    "sns.countplot(df[names[-1]])"
   ]
  },
  {
   "cell_type": "code",
   "execution_count": 37,
   "metadata": {},
   "outputs": [
    {
     "data": {
      "text/plain": [
       "<matplotlib.axes._subplots.AxesSubplot at 0x21ef4c08358>"
      ]
     },
     "execution_count": 37,
     "metadata": {},
     "output_type": "execute_result"
    },
    {
     "data": {
      "image/png": "[encoded data removed]",
      "text/plain": [
       "<Figure size 1080x360 with 1 Axes>"
      ]
     },
     "metadata": {},
     "output_type": "display_data"
    }
   ],
   "source": [
    "plt.figure(figsize=[15,5])\n",
    "sns.countplot(df['thal'], hue=df[names[-1]])"
   ]
  },
  {
   "cell_type": "code",
   "execution_count": 39,
   "metadata": {},
   "outputs": [
    {
     "data": {
      "text/plain": [
       "<matplotlib.axes._subplots.AxesSubplot at 0x21ef49e95c0>"
      ]
     },
     "execution_count": 39,
     "metadata": {},
     "output_type": "execute_result"
    },
    {
     "data": {
      "image/png": "[encoded data removed]",
      "text/plain": [
       "<Figure size 1080x360 with 1 Axes>"
      ]
     },
     "metadata": {},
     "output_type": "display_data"
    }
   ],
   "source": [
    "plt.figure(figsize=[15,5])\n",
    "sns.countplot(df['chest_pain_type'], hue=df[names[-1]])"
   ]
  },
  {
   "cell_type": "code",
   "execution_count": 28,
   "metadata": {},
   "outputs": [
    {
     "ename": "NameError",
     "evalue": "name 'xtrain' is not defined",
     "output_type": "error",
     "traceback": [
      "\u001b[1;31m---------------------------------------------------------------------------\u001b[0m",
      "\u001b[1;31mNameError\u001b[0m                                 Traceback (most recent call last)",
      "\u001b[1;32m<ipython-input-28-be31624ec22c>\u001b[0m in \u001b[0;36m<module>\u001b[1;34m()\u001b[0m\n\u001b[0;32m      1\u001b[0m \u001b[0mlr\u001b[0m\u001b[1;33m=\u001b[0m\u001b[0mLogisticRegression\u001b[0m\u001b[1;33m(\u001b[0m\u001b[0mC\u001b[0m\u001b[1;33m=\u001b[0m\u001b[1;36m0.009\u001b[0m\u001b[1;33m)\u001b[0m\u001b[1;33m\u001b[0m\u001b[0m\n\u001b[1;32m----> 2\u001b[1;33m \u001b[0mlr\u001b[0m\u001b[1;33m.\u001b[0m\u001b[0mfit\u001b[0m\u001b[1;33m(\u001b[0m\u001b[0mxtrain\u001b[0m\u001b[1;33m,\u001b[0m \u001b[0mytrain\u001b[0m\u001b[1;33m)\u001b[0m\u001b[1;33m\u001b[0m\u001b[0m\n\u001b[0m\u001b[0;32m      3\u001b[0m \u001b[1;33m\u001b[0m\u001b[0m\n\u001b[0;32m      4\u001b[0m \u001b[0mp\u001b[0m\u001b[1;33m=\u001b[0m \u001b[0mlr\u001b[0m\u001b[1;33m.\u001b[0m\u001b[0mpredict_proba\u001b[0m\u001b[1;33m(\u001b[0m\u001b[0mxtrain\u001b[0m\u001b[1;33m)\u001b[0m\u001b[1;33m\u001b[0m\u001b[0m\n\u001b[0;32m      5\u001b[0m \u001b[0mp1\u001b[0m\u001b[1;33m=\u001b[0m \u001b[0mlr\u001b[0m\u001b[1;33m.\u001b[0m\u001b[0mpredict_proba\u001b[0m\u001b[1;33m(\u001b[0m\u001b[0mxtest\u001b[0m\u001b[1;33m)\u001b[0m\u001b[1;33m\u001b[0m\u001b[0m\n",
      "\u001b[1;31mNameError\u001b[0m: name 'xtrain' is not defined"
     ]
    }
   ],
   "source": [
    "lr=LogisticRegression(C=0.009)\n",
    "lr.fit(xtrain, ytrain)\n",
    "\n",
    "p= lr.predict_proba(xtrain)\n",
    "p1= lr.predict_proba(xtest)\n",
    "log_loss(ytrain, p), log_loss(ytest, p1)"
   ]
  },
  {
   "cell_type": "code",
   "execution_count": null,
   "metadata": {},
   "outputs": [],
   "source": []
  },
  {
   "cell_type": "code",
   "execution_count": null,
   "metadata": {},
   "outputs": [],
   "source": []
  },
  {
   "cell_type": "code",
   "execution_count": null,
   "metadata": {},
   "outputs": [],
   "source": []
  },
  {
   "cell_type": "code",
   "execution_count": 29,
   "metadata": {},
   "outputs": [],
   "source": [
    "kf=KFold(n_splits=5, random_state=None, shuffle=False)\n",
    "\n",
    "rf= RandomForestClassifier(n_estimators=30, criterion='entropy',max_depth=5,min_samples_split=5)\n",
    "gb=GradientBoostingClassifier(n_estimators=10,max_depth= 5, min_samples_leaf= 2)\n",
    "ab=AdaBoostClassifier(n_estimators=500)\n",
    "lr=LogisticRegression(C=0.07)\n",
    "et=ExtraTreesClassifier(n_estimators=50,max_depth= 8, min_samples_leaf= 2,verbose= 0)\n",
    "\n",
    "rf_train, rf_test=[],[]\n",
    "gb_train, gb_test= [],[]\n",
    "ab_train, ab_test= [],[]\n",
    "lr_train, lr_test=[],[]\n",
    "et_train, et_test=[],[]\n",
    "#sp1,sp2=[],[]\n",
    "\n",
    "for train_index, test_index in kf.split(x):\n",
    "    \n",
    "    xtrain, xtest= x[train_index], x[test_index]\n",
    "    ytrain, ytest= y[train_index], y[test_index]\n",
    "    \n",
    "    rf.fit(xtrain, ytrain)\n",
    "    predict1=rf.predict_proba(xtrain)\n",
    "    predict2= rf.predict_proba(xtest)\n",
    "    a=rf.predict(xtest)\n",
    "    a_=rf.predict(xtrain)\n",
    "    \n",
    "    rf_train.append(log_loss(ytrain, predict1))\n",
    "    rf_test.append(log_loss(ytest, predict2))\n",
    "    \n",
    "    gb.fit(xtrain, ytrain)\n",
    "    predict3=gb.predict_proba(xtrain)\n",
    "    predict4= gb.predict_proba(xtest)\n",
    "    b=gb.predict(xtest)\n",
    "    b_=gb.predict(xtrain)\n",
    "    \n",
    "    gb_train.append(log_loss(ytrain, predict3))\n",
    "    gb_test.append(log_loss(ytest, predict4))\n",
    "    \n",
    "    ab.fit(xtrain, ytrain)\n",
    "    predict5=ab.predict_proba(xtrain)\n",
    "    predict6= ab.predict_proba(xtest)\n",
    "    c= ab.predict(xtest)\n",
    "    c_= ab.predict(xtrain)\n",
    "    \n",
    "    ab_train.append(log_loss(ytrain, predict5))\n",
    "    ab_test.append(log_loss(ytest, predict6))\n",
    "    \n",
    "    lr.fit(xtrain, ytrain)\n",
    "    predict7=lr.predict_proba(xtrain)\n",
    "    predict8= lr.predict_proba(xtest)\n",
    "    d=lr.predict(xtest)\n",
    "    d_=lr.predict(xtrain)\n",
    "    \n",
    "    lr_train.append(log_loss(ytrain, predict7))\n",
    "    lr_test.append(log_loss(ytest, predict8))\n",
    "    \n",
    "    et.fit(xtrain, ytrain)\n",
    "    predict9=et.predict_proba(xtrain)\n",
    "    predict10= et.predict_proba(xtest)\n",
    "    e=et.predict(xtest)\n",
    "    e_=et.predict(xtrain)\n",
    "    \n",
    "    et_train.append(log_loss(ytrain, predict9))\n",
    "    et_test.append(log_loss(ytest, predict10))\n",
    "    \n",
    "    #stack1= pd.concat([pd.DataFrame(a),pd.DataFrame(b),pd.DataFrame(c),pd.DataFrame(d),pd.DataFrame(e)],axis=1)\n",
    "    #stack2=pd.concat([pd.DataFrame(a_),pd.DataFrame(b_),pd.DataFrame(c_),pd.DataFrame(d_),pd.DataFrame(e_)],axis=1)\n",
    "    \n",
    "    #stack1_= np.asarray(stack1)\n",
    "    #stack2_= np.asarray(stack2)\n",
    "    \n",
    "    #et.fit(stack2_, ytrain)\n",
    "    #pr1=et.predict_proba(stack2_)\n",
    "    #pr2= et.predict_proba(stack1_)\n",
    "    \n",
    "    #sp1.append(log_loss(ytrain, pr1))\n",
    "    #sp2.append(log_loss(ytest, pr2))"
   ]
  },
  {
   "cell_type": "code",
   "execution_count": 41,
   "metadata": {},
   "outputs": [
    {
     "name": "stdout",
     "output_type": "stream",
     "text": [
      "RF train:  0.2341349309028414 test:  0.4592406719233256\n",
      "\n",
      "GB train:  0.25587295256555737 test:  0.5439268652708766\n",
      "\n",
      "AB train:  0.6648241354691445 test:  0.6768037882173077\n",
      "\n",
      "LR train:  0.3876255119410153 test:  0.42851424082491185\n",
      "\n",
      "ET train:  0.21893954606428406 test:  0.4326557897471538\n"
     ]
    }
   ],
   "source": [
    "print(\"RF train: \", np.array(rf_train).mean(),\"test: \", np.array(rf_test).mean() )\n",
    "print(\"\\nGB train: \", np.array(gb_train).mean(),\"test: \", np.array(gb_test).mean() )\n",
    "print(\"\\nAB train: \", np.array(ab_train).mean(),\"test: \", np.array(ab_test).mean() )\n",
    "print(\"\\nLR train: \", np.array(lr_train).mean(),\"test: \", np.array(lr_test).mean() )\n",
    "print(\"\\nET train: \", np.array(et_train).mean(),\"test: \", np.array(et_test).mean() )\n",
    "#print(\"\\nST train: \", np.array(sp1).mean(),\"test: \", np.array(sp2).mean() )"
   ]
  },
  {
   "cell_type": "code",
   "execution_count": null,
   "metadata": {},
   "outputs": [],
   "source": []
  },
  {
   "cell_type": "code",
   "execution_count": 31,
   "metadata": {},
   "outputs": [
    {
     "data": {
      "text/plain": [
       "ExtraTreesClassifier(bootstrap=False, class_weight=None, criterion='gini',\n",
       "           max_depth=8, max_features='auto', max_leaf_nodes=None,\n",
       "           min_impurity_decrease=0.0, min_impurity_split=None,\n",
       "           min_samples_leaf=2, min_samples_split=2,\n",
       "           min_weight_fraction_leaf=0.0, n_estimators=50, n_jobs=1,\n",
       "           oob_score=False, random_state=None, verbose=0, warm_start=False)"
      ]
     },
     "execution_count": 31,
     "metadata": {},
     "output_type": "execute_result"
    }
   ],
   "source": [
    "et=ExtraTreesClassifier(n_estimators=50,max_depth= 8, min_samples_leaf= 2,verbose= 0)\n",
    "et.fit(x,y)"
   ]
  },
  {
   "cell_type": "markdown",
   "metadata": {},
   "source": [
    "### Testing"
   ]
  },
  {
   "cell_type": "code",
   "execution_count": 32,
   "metadata": {},
   "outputs": [
    {
     "data": {
      "text/html": [
       "<div>\n",
       "<style scoped>\n",
       "    .dataframe tbody tr th:only-of-type {\n",
       "        vertical-align: middle;\n",
       "    }\n",
       "\n",
       "    .dataframe tbody tr th {\n",
       "        vertical-align: top;\n",
       "    }\n",
       "\n",
       "    .dataframe thead th {\n",
       "        text-align: right;\n",
       "    }\n",
       "</style>\n",
       "<table border=\"1\" class=\"dataframe\">\n",
       "  <thead>\n",
       "    <tr style=\"text-align: right;\">\n",
       "      <th></th>\n",
       "      <th>patient_id</th>\n",
       "      <th>slope_of_peak_exercise_st_segment</th>\n",
       "      <th>thal</th>\n",
       "      <th>resting_blood_pressure</th>\n",
       "      <th>chest_pain_type</th>\n",
       "      <th>num_major_vessels</th>\n",
       "      <th>fasting_blood_sugar_gt_120_mg_per_dl</th>\n",
       "      <th>resting_ekg_results</th>\n",
       "      <th>serum_cholesterol_mg_per_dl</th>\n",
       "      <th>oldpeak_eq_st_depression</th>\n",
       "      <th>sex</th>\n",
       "      <th>age</th>\n",
       "      <th>max_heart_rate_achieved</th>\n",
       "      <th>exercise_induced_angina</th>\n",
       "    </tr>\n",
       "  </thead>\n",
       "  <tbody>\n",
       "    <tr>\n",
       "      <th>0</th>\n",
       "      <td>olalu7</td>\n",
       "      <td>2</td>\n",
       "      <td>reversible_defect</td>\n",
       "      <td>170</td>\n",
       "      <td>1</td>\n",
       "      <td>0</td>\n",
       "      <td>0</td>\n",
       "      <td>2</td>\n",
       "      <td>288</td>\n",
       "      <td>0.2</td>\n",
       "      <td>1</td>\n",
       "      <td>59</td>\n",
       "      <td>159</td>\n",
       "      <td>0</td>\n",
       "    </tr>\n",
       "    <tr>\n",
       "      <th>1</th>\n",
       "      <td>z9n6mx</td>\n",
       "      <td>1</td>\n",
       "      <td>normal</td>\n",
       "      <td>138</td>\n",
       "      <td>4</td>\n",
       "      <td>0</td>\n",
       "      <td>0</td>\n",
       "      <td>0</td>\n",
       "      <td>183</td>\n",
       "      <td>1.4</td>\n",
       "      <td>0</td>\n",
       "      <td>35</td>\n",
       "      <td>182</td>\n",
       "      <td>0</td>\n",
       "    </tr>\n",
       "    <tr>\n",
       "      <th>2</th>\n",
       "      <td>5k4413</td>\n",
       "      <td>2</td>\n",
       "      <td>reversible_defect</td>\n",
       "      <td>120</td>\n",
       "      <td>4</td>\n",
       "      <td>0</td>\n",
       "      <td>0</td>\n",
       "      <td>2</td>\n",
       "      <td>177</td>\n",
       "      <td>2.5</td>\n",
       "      <td>1</td>\n",
       "      <td>43</td>\n",
       "      <td>120</td>\n",
       "      <td>1</td>\n",
       "    </tr>\n",
       "    <tr>\n",
       "      <th>3</th>\n",
       "      <td>mrg7q5</td>\n",
       "      <td>1</td>\n",
       "      <td>normal</td>\n",
       "      <td>102</td>\n",
       "      <td>3</td>\n",
       "      <td>1</td>\n",
       "      <td>0</td>\n",
       "      <td>0</td>\n",
       "      <td>318</td>\n",
       "      <td>0.0</td>\n",
       "      <td>0</td>\n",
       "      <td>60</td>\n",
       "      <td>160</td>\n",
       "      <td>0</td>\n",
       "    </tr>\n",
       "    <tr>\n",
       "      <th>4</th>\n",
       "      <td>uki4do</td>\n",
       "      <td>2</td>\n",
       "      <td>normal</td>\n",
       "      <td>138</td>\n",
       "      <td>4</td>\n",
       "      <td>1</td>\n",
       "      <td>0</td>\n",
       "      <td>2</td>\n",
       "      <td>166</td>\n",
       "      <td>3.6</td>\n",
       "      <td>1</td>\n",
       "      <td>61</td>\n",
       "      <td>125</td>\n",
       "      <td>1</td>\n",
       "    </tr>\n",
       "  </tbody>\n",
       "</table>\n",
       "</div>"
      ],
      "text/plain": [
       "  patient_id  slope_of_peak_exercise_st_segment               thal  \\\n",
       "0     olalu7                                  2  reversible_defect   \n",
       "1     z9n6mx                                  1             normal   \n",
       "2     5k4413                                  2  reversible_defect   \n",
       "3     mrg7q5                                  1             normal   \n",
       "4     uki4do                                  2             normal   \n",
       "\n",
       "   resting_blood_pressure  chest_pain_type  num_major_vessels  \\\n",
       "0                     170                1                  0   \n",
       "1                     138                4                  0   \n",
       "2                     120                4                  0   \n",
       "3                     102                3                  1   \n",
       "4                     138                4                  1   \n",
       "\n",
       "   fasting_blood_sugar_gt_120_mg_per_dl  resting_ekg_results  \\\n",
       "0                                     0                    2   \n",
       "1                                     0                    0   \n",
       "2                                     0                    2   \n",
       "3                                     0                    0   \n",
       "4                                     0                    2   \n",
       "\n",
       "   serum_cholesterol_mg_per_dl  oldpeak_eq_st_depression  sex  age  \\\n",
       "0                          288                       0.2    1   59   \n",
       "1                          183                       1.4    0   35   \n",
       "2                          177                       2.5    1   43   \n",
       "3                          318                       0.0    0   60   \n",
       "4                          166                       3.6    1   61   \n",
       "\n",
       "   max_heart_rate_achieved  exercise_induced_angina  \n",
       "0                      159                        0  \n",
       "1                      182                        0  \n",
       "2                      120                        1  \n",
       "3                      160                        0  \n",
       "4                      125                        1  "
      ]
     },
     "execution_count": 32,
     "metadata": {},
     "output_type": "execute_result"
    }
   ],
   "source": [
    "test.head()"
   ]
  },
  {
   "cell_type": "code",
   "execution_count": 33,
   "metadata": {},
   "outputs": [],
   "source": [
    "idd= test['patient_id']\n",
    "test['thal']=test['thal'].map({'normal':1,'reversible_defect':2, 'fixed_defect':3 })\n",
    "test.drop(['patient_id'], axis=1, inplace=True)\n"
   ]
  },
  {
   "cell_type": "code",
   "execution_count": 34,
   "metadata": {},
   "outputs": [],
   "source": [
    "xx=np.asarray(test)\n",
    "\n",
    "xx=scaler.fit_transform(xx)"
   ]
  },
  {
   "cell_type": "code",
   "execution_count": 35,
   "metadata": {},
   "outputs": [],
   "source": [
    "predictions= et.predict_proba(xx)"
   ]
  },
  {
   "cell_type": "code",
   "execution_count": 36,
   "metadata": {},
   "outputs": [],
   "source": [
    "pred= predictions[:,1]"
   ]
  },
  {
   "cell_type": "code",
   "execution_count": 37,
   "metadata": {},
   "outputs": [
    {
     "data": {
      "text/plain": [
       "array([[0.62133816, 0.37866184],\n",
       "       [0.8498818 , 0.1501182 ],\n",
       "       [0.08362526, 0.91637474],\n",
       "       [0.86738466, 0.13261534],\n",
       "       [0.23267532, 0.76732468]])"
      ]
     },
     "execution_count": 37,
     "metadata": {},
     "output_type": "execute_result"
    }
   ],
   "source": [
    "predictions[:5]"
   ]
  },
  {
   "cell_type": "code",
   "execution_count": 38,
   "metadata": {},
   "outputs": [
    {
     "data": {
      "text/plain": [
       "array([0.37866184, 0.1501182 , 0.91637474, 0.13261534, 0.76732468])"
      ]
     },
     "execution_count": 38,
     "metadata": {},
     "output_type": "execute_result"
    }
   ],
   "source": [
    "pred[:5]"
   ]
  },
  {
   "cell_type": "code",
   "execution_count": 39,
   "metadata": {},
   "outputs": [],
   "source": [
    "data= pd.DataFrame({'patient_id':idd, 'heart_disease_present':pred})"
   ]
  },
  {
   "cell_type": "code",
   "execution_count": 40,
   "metadata": {},
   "outputs": [],
   "source": [
    "data.to_csv(\"submit1.csv\", index=False)"
   ]
  },
  {
   "cell_type": "code",
   "execution_count": null,
   "metadata": {},
   "outputs": [],
   "source": []
  },
  {
   "cell_type": "code",
   "execution_count": null,
   "metadata": {},
   "outputs": [],
   "source": [
    "test.loc[test['serum_cholesterol_mg_per_dl']<=150,'serum_cholesterol_mg_per_dl']=1\n",
    "test.loc[((test['serum_cholesterol_mg_per_dl']>150) & (test['serum_cholesterol_mg_per_dl']<=170)),'serum_cholesterol_mg_per_dl']=2\n",
    "test.loc[((test['serum_cholesterol_mg_per_dl']>170) & (test['serum_cholesterol_mg_per_dl']<=190)),'serum_cholesterol_mg_per_dl']=3\n",
    "test.loc[((test['serum_cholesterol_mg_per_dl']>190) & (test['serum_cholesterol_mg_per_dl']<=210)),'serum_cholesterol_mg_per_dl']=4\n",
    "test.loc[((test['serum_cholesterol_mg_per_dl']>210) & (test['serum_cholesterol_mg_per_dl']<=230)),'serum_cholesterol_mg_per_dl']=5\n",
    "test.loc[((test['serum_cholesterol_mg_per_dl']>230) & (test['serum_cholesterol_mg_per_dl']<=250)),'serum_cholesterol_mg_per_dl']=6\n",
    "test.loc[((test['serum_cholesterol_mg_per_dl']>250) & (test['serum_cholesterol_mg_per_dl']<=270)),'serum_cholesterol_mg_per_dl']=7\n",
    "\n",
    "test.loc[((test['serum_cholesterol_mg_per_dl']>270) & (test['serum_cholesterol_mg_per_dl']<=290)),'serum_cholesterol_mg_per_dl']=8\n",
    "test.loc[((test['serum_cholesterol_mg_per_dl']>290) & (test['serum_cholesterol_mg_per_dl']<=310)),'serum_cholesterol_mg_per_dl']=9\n",
    "test.loc[((test['serum_cholesterol_mg_per_dl']>310) & (test['serum_cholesterol_mg_per_dl']<=330)),'serum_cholesterol_mg_per_dl']=10\n",
    "test.loc[((test['serum_cholesterol_mg_per_dl']>330) & (test['serum_cholesterol_mg_per_dl']<=350)),'serum_cholesterol_mg_per_dl']=11\n",
    "test.loc[(test['serum_cholesterol_mg_per_dl']>350),'serum_cholesterol_mg_per_dl']=12\n",
    "\n",
    "test.loc[test['age']<=35,'age']=1\n",
    "test.loc[((test['age']>35) & (test['age']<=40)),'age']=2\n",
    "test.loc[((test['age']>40) & (test['age']<=45)),'age']=3\n",
    "test.loc[((test['age']>45) & (test['age']<=50)),'age']=4\n",
    "\n",
    "test.loc[((test['age']>50) & (test['age']<=55)),'age']=5\n",
    "test.loc[((test['age']>55) & (test['age']<=60)),'age']=6\n",
    "test.loc[((test['age']>60) & (test['age']<=65)),'age']=7\n",
    "test.loc[(test['age']>65),'age']=8\n",
    "\n",
    "test.loc[test['max_heart_rate_achieved']<=130,'max_heart_rate_achieved']=1\n",
    "test.loc[((test['max_heart_rate_achieved']>130) & (test['max_heart_rate_achieved']<=140)),'max_heart_rate_achieved']=2\n",
    "test.loc[((test['max_heart_rate_achieved']>140) & (test['max_heart_rate_achieved']<=150)),'max_heart_rate_achieved']=3\n",
    "\n",
    "test.loc[((test['max_heart_rate_achieved']>150) & (test['max_heart_rate_achieved']<=160)),'max_heart_rate_achieved']=4\n",
    "test.loc[((test['max_heart_rate_achieved']>160) & (test['max_heart_rate_achieved']<=170)),'max_heart_rate_achieved']=5\n",
    "\n",
    "test.loc[((test['max_heart_rate_achieved']>170) & (test['max_heart_rate_achieved']<=180)),'max_heart_rate_achieved']=6\n",
    "\n",
    "test.loc[(test['max_heart_rate_achieved']>180),'max_heart_rate_achieved']=7\n",
    "\n",
    "test.loc[test['resting_blood_pressure']<=100,'resting_blood_pressure']=1\n",
    "test.loc[((test['resting_blood_pressure']>100) & (test['resting_blood_pressure']<=110)),'resting_blood_pressure']=2\n",
    "test.loc[((test['resting_blood_pressure']>110) & (test['resting_blood_pressure']<=120)),'resting_blood_pressure']=3\n",
    "\n",
    "test.loc[((test['resting_blood_pressure']>120) & (test['resting_blood_pressure']<=130)),'resting_blood_pressure']=4\n",
    "test.loc[((test['resting_blood_pressure']>130) & (test['resting_blood_pressure']<=140)),'resting_blood_pressure']=5\n",
    "\n",
    "test.loc[((test['resting_blood_pressure']>140) & (test['resting_blood_pressure']<=150)),'resting_blood_pressure']=6\n",
    "test.loc[((test['resting_blood_pressure']>150) & (test['resting_blood_pressure']<=160)),'resting_blood_pressure']=7\n",
    "\n",
    "test.loc[((test['resting_blood_pressure']>160) & (test['resting_blood_pressure']<=170)),'resting_blood_pressure']=8\n",
    "test.loc[(test['resting_blood_pressure']>170),'resting_blood_pressure']=9"
   ]
  }
 ],
 "metadata": {
  "kernelspec": {
   "display_name": "Python 3",
   "language": "python",
   "name": "python3"
  },
  "language_info": {
   "codemirror_mode": {
    "name": "ipython",
    "version": 3
   },
   "file_extension": ".py",
   "mimetype": "text/x-python",
   "name": "python",
   "nbconvert_exporter": "python",
   "pygments_lexer": "ipython3",
   "version": "3.6.5"
  }
 },
 "nbformat": 4,
 "nbformat_minor": 2
}
