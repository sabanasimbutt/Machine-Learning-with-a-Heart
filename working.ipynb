{
 "cells": [
  {
   "cell_type": "code",
   "execution_count": 74,
   "metadata": {},
   "outputs": [],
   "source": [
    "import numpy as np \n",
    "import pandas as pd\n",
    "from sklearn import preprocessing\n",
    "from sklearn.metrics import log_loss\n",
    "import seaborn as sns \n",
    "import matplotlib.pyplot as plt\n",
    "from sklearn.model_selection import KFold\n",
    "from sklearn.neighbors import KNeighborsClassifier\n",
    "from sklearn.linear_model import LogisticRegression\n",
    "from sklearn.preprocessing import StandardScaler\n",
    "from sklearn.model_selection import train_test_split\n",
    "from sklearn.metrics import accuracy_score\n",
    "from sklearn.ensemble import RandomForestClassifier\n",
    "from sklearn.tree import DecisionTreeClassifier\n",
    "from sklearn.ensemble import RandomForestClassifier, AdaBoostClassifier, GradientBoostingClassifier, ExtraTreesClassifier"
   ]
  },
  {
   "cell_type": "code",
   "execution_count": 379,
   "metadata": {},
   "outputs": [
    {
     "data": {
      "text/plain": [
       "((180, 14), (180, 2))"
      ]
     },
     "execution_count": 379,
     "metadata": {},
     "output_type": "execute_result"
    }
   ],
   "source": [
    "train= pd.read_csv(\"C://Users/Saba Naseem/Desktop/Data Driven/Machine Learning with a Heart/train_values.csv\")\n",
    "labels=pd.read_csv(\"C://Users/Saba Naseem/Desktop/Data Driven/Machine Learning with a Heart/train_labels.csv\")\n",
    "test=pd.read_csv(\"C://Users/Saba Naseem/Desktop/Data Driven/Machine Learning with a Heart/test_values.csv\")\n",
    "train.shape, labels.shape"
   ]
  },
  {
   "cell_type": "code",
   "execution_count": 380,
   "metadata": {},
   "outputs": [],
   "source": [
    "\n",
    "labels.drop('patient_id', axis=1, inplace=True)\n",
    "df= pd.concat([train, labels], axis=1)\n",
    "\n",
    "df.drop(['patient_id'], axis=1, inplace=True)"
   ]
  },
  {
   "cell_type": "code",
   "execution_count": 381,
   "metadata": {},
   "outputs": [
    {
     "data": {
      "text/html": [
       "<div>\n",
       "<style scoped>\n",
       "    .dataframe tbody tr th:only-of-type {\n",
       "        vertical-align: middle;\n",
       "    }\n",
       "\n",
       "    .dataframe tbody tr th {\n",
       "        vertical-align: top;\n",
       "    }\n",
       "\n",
       "    .dataframe thead th {\n",
       "        text-align: right;\n",
       "    }\n",
       "</style>\n",
       "<table border=\"1\" class=\"dataframe\">\n",
       "  <thead>\n",
       "    <tr style=\"text-align: right;\">\n",
       "      <th></th>\n",
       "      <th>slope_of_peak_exercise_st_segment</th>\n",
       "      <th>thal</th>\n",
       "      <th>resting_blood_pressure</th>\n",
       "      <th>chest_pain_type</th>\n",
       "      <th>num_major_vessels</th>\n",
       "      <th>fasting_blood_sugar_gt_120_mg_per_dl</th>\n",
       "      <th>resting_ekg_results</th>\n",
       "      <th>serum_cholesterol_mg_per_dl</th>\n",
       "      <th>oldpeak_eq_st_depression</th>\n",
       "      <th>sex</th>\n",
       "      <th>age</th>\n",
       "      <th>max_heart_rate_achieved</th>\n",
       "      <th>exercise_induced_angina</th>\n",
       "      <th>heart_disease_present</th>\n",
       "    </tr>\n",
       "  </thead>\n",
       "  <tbody>\n",
       "    <tr>\n",
       "      <th>0</th>\n",
       "      <td>1</td>\n",
       "      <td>normal</td>\n",
       "      <td>128</td>\n",
       "      <td>2</td>\n",
       "      <td>0</td>\n",
       "      <td>0</td>\n",
       "      <td>2</td>\n",
       "      <td>308</td>\n",
       "      <td>0.0</td>\n",
       "      <td>1</td>\n",
       "      <td>45</td>\n",
       "      <td>170</td>\n",
       "      <td>0</td>\n",
       "      <td>0</td>\n",
       "    </tr>\n",
       "    <tr>\n",
       "      <th>1</th>\n",
       "      <td>2</td>\n",
       "      <td>normal</td>\n",
       "      <td>110</td>\n",
       "      <td>3</td>\n",
       "      <td>0</td>\n",
       "      <td>0</td>\n",
       "      <td>0</td>\n",
       "      <td>214</td>\n",
       "      <td>1.6</td>\n",
       "      <td>0</td>\n",
       "      <td>54</td>\n",
       "      <td>158</td>\n",
       "      <td>0</td>\n",
       "      <td>0</td>\n",
       "    </tr>\n",
       "    <tr>\n",
       "      <th>2</th>\n",
       "      <td>1</td>\n",
       "      <td>normal</td>\n",
       "      <td>125</td>\n",
       "      <td>4</td>\n",
       "      <td>3</td>\n",
       "      <td>0</td>\n",
       "      <td>2</td>\n",
       "      <td>304</td>\n",
       "      <td>0.0</td>\n",
       "      <td>1</td>\n",
       "      <td>77</td>\n",
       "      <td>162</td>\n",
       "      <td>1</td>\n",
       "      <td>1</td>\n",
       "    </tr>\n",
       "    <tr>\n",
       "      <th>3</th>\n",
       "      <td>1</td>\n",
       "      <td>reversible_defect</td>\n",
       "      <td>152</td>\n",
       "      <td>4</td>\n",
       "      <td>0</td>\n",
       "      <td>0</td>\n",
       "      <td>0</td>\n",
       "      <td>223</td>\n",
       "      <td>0.0</td>\n",
       "      <td>1</td>\n",
       "      <td>40</td>\n",
       "      <td>181</td>\n",
       "      <td>0</td>\n",
       "      <td>1</td>\n",
       "    </tr>\n",
       "    <tr>\n",
       "      <th>4</th>\n",
       "      <td>3</td>\n",
       "      <td>reversible_defect</td>\n",
       "      <td>178</td>\n",
       "      <td>1</td>\n",
       "      <td>0</td>\n",
       "      <td>0</td>\n",
       "      <td>2</td>\n",
       "      <td>270</td>\n",
       "      <td>4.2</td>\n",
       "      <td>1</td>\n",
       "      <td>59</td>\n",
       "      <td>145</td>\n",
       "      <td>0</td>\n",
       "      <td>0</td>\n",
       "    </tr>\n",
       "  </tbody>\n",
       "</table>\n",
       "</div>"
      ],
      "text/plain": [
       "   slope_of_peak_exercise_st_segment               thal  \\\n",
       "0                                  1             normal   \n",
       "1                                  2             normal   \n",
       "2                                  1             normal   \n",
       "3                                  1  reversible_defect   \n",
       "4                                  3  reversible_defect   \n",
       "\n",
       "   resting_blood_pressure  chest_pain_type  num_major_vessels  \\\n",
       "0                     128                2                  0   \n",
       "1                     110                3                  0   \n",
       "2                     125                4                  3   \n",
       "3                     152                4                  0   \n",
       "4                     178                1                  0   \n",
       "\n",
       "   fasting_blood_sugar_gt_120_mg_per_dl  resting_ekg_results  \\\n",
       "0                                     0                    2   \n",
       "1                                     0                    0   \n",
       "2                                     0                    2   \n",
       "3                                     0                    0   \n",
       "4                                     0                    2   \n",
       "\n",
       "   serum_cholesterol_mg_per_dl  oldpeak_eq_st_depression  sex  age  \\\n",
       "0                          308                       0.0    1   45   \n",
       "1                          214                       1.6    0   54   \n",
       "2                          304                       0.0    1   77   \n",
       "3                          223                       0.0    1   40   \n",
       "4                          270                       4.2    1   59   \n",
       "\n",
       "   max_heart_rate_achieved  exercise_induced_angina  heart_disease_present  \n",
       "0                      170                        0                      0  \n",
       "1                      158                        0                      0  \n",
       "2                      162                        1                      1  \n",
       "3                      181                        0                      1  \n",
       "4                      145                        0                      0  "
      ]
     },
     "execution_count": 381,
     "metadata": {},
     "output_type": "execute_result"
    }
   ],
   "source": [
    "df.head()"
   ]
  },
  {
   "cell_type": "code",
   "execution_count": 322,
   "metadata": {},
   "outputs": [],
   "source": [
    "df.loc[df['serum_cholesterol_mg_per_dl']<=150,'serum_cholesterol_mg_per_dl']=1\n",
    "df.loc[((df['serum_cholesterol_mg_per_dl']>150) & (df['serum_cholesterol_mg_per_dl']<=170)),'serum_cholesterol_mg_per_dl']=2\n",
    "df.loc[((df['serum_cholesterol_mg_per_dl']>170) & (df['serum_cholesterol_mg_per_dl']<=190)),'serum_cholesterol_mg_per_dl']=3\n",
    "df.loc[((df['serum_cholesterol_mg_per_dl']>190) & (df['serum_cholesterol_mg_per_dl']<=210)),'serum_cholesterol_mg_per_dl']=4\n",
    "df.loc[((df['serum_cholesterol_mg_per_dl']>210) & (df['serum_cholesterol_mg_per_dl']<=230)),'serum_cholesterol_mg_per_dl']=5\n",
    "df.loc[((df['serum_cholesterol_mg_per_dl']>230) & (df['serum_cholesterol_mg_per_dl']<=250)),'serum_cholesterol_mg_per_dl']=6\n",
    "df.loc[((df['serum_cholesterol_mg_per_dl']>250) & (df['serum_cholesterol_mg_per_dl']<=270)),'serum_cholesterol_mg_per_dl']=7\n",
    "\n",
    "df.loc[((df['serum_cholesterol_mg_per_dl']>270) & (df['serum_cholesterol_mg_per_dl']<=290)),'serum_cholesterol_mg_per_dl']=8\n",
    "df.loc[((df['serum_cholesterol_mg_per_dl']>290) & (df['serum_cholesterol_mg_per_dl']<=310)),'serum_cholesterol_mg_per_dl']=9\n",
    "df.loc[((df['serum_cholesterol_mg_per_dl']>310) & (df['serum_cholesterol_mg_per_dl']<=330)),'serum_cholesterol_mg_per_dl']=10\n",
    "df.loc[((df['serum_cholesterol_mg_per_dl']>330) & (df['serum_cholesterol_mg_per_dl']<=350)),'serum_cholesterol_mg_per_dl']=11\n",
    "df.loc[(df['serum_cholesterol_mg_per_dl']>350),'serum_cholesterol_mg_per_dl']=12"
   ]
  },
  {
   "cell_type": "code",
   "execution_count": 273,
   "metadata": {},
   "outputs": [
    {
     "data": {
      "text/plain": [
       "<matplotlib.axes._subplots.AxesSubplot at 0x1b2af1b8470>"
      ]
     },
     "execution_count": 273,
     "metadata": {},
     "output_type": "execute_result"
    },
    {
     "data": {
      "image/png": "[encoded data removed]",
      "text/plain": [
       "<Figure size 432x288 with 1 Axes>"
      ]
     },
     "metadata": {},
     "output_type": "display_data"
    }
   ],
   "source": [
    "sns.countplot(df['serum_cholesterol_mg_per_dl'])"
   ]
  },
  {
   "cell_type": "code",
   "execution_count": 323,
   "metadata": {},
   "outputs": [],
   "source": [
    "df.loc[df['age']<=35,'age']=1\n",
    "df.loc[((df['age']>35) & (df['age']<=40)),'age']=2\n",
    "df.loc[((df['age']>40) & (df['age']<=45)),'age']=3\n",
    "df.loc[((df['age']>45) & (df['age']<=50)),'age']=4\n",
    "\n",
    "df.loc[((df['age']>50) & (df['age']<=55)),'age']=5\n",
    "df.loc[((df['age']>55) & (df['age']<=60)),'age']=6\n",
    "df.loc[((df['age']>60) & (df['age']<=65)),'age']=7\n",
    "df.loc[(df['age']>65),'age']=8"
   ]
  },
  {
   "cell_type": "code",
   "execution_count": 284,
   "metadata": {},
   "outputs": [
    {
     "data": {
      "text/plain": [
       "<matplotlib.axes._subplots.AxesSubplot at 0x1b2b084a9b0>"
      ]
     },
     "execution_count": 284,
     "metadata": {},
     "output_type": "execute_result"
    },
    {
     "data": {
      "image/png": "[encoded data removed]",
      "text/plain": [
       "<Figure size 432x288 with 1 Axes>"
      ]
     },
     "metadata": {},
     "output_type": "display_data"
    }
   ],
   "source": [
    "sns.countplot(df['age'])"
   ]
  },
  {
   "cell_type": "code",
   "execution_count": 324,
   "metadata": {},
   "outputs": [],
   "source": [
    "df.loc[df['max_heart_rate_achieved']<=130,'max_heart_rate_achieved']=1\n",
    "df.loc[((df['max_heart_rate_achieved']>130) & (df['max_heart_rate_achieved']<=140)),'max_heart_rate_achieved']=2\n",
    "df.loc[((df['max_heart_rate_achieved']>140) & (df['max_heart_rate_achieved']<=150)),'max_heart_rate_achieved']=3\n",
    "\n",
    "df.loc[((df['max_heart_rate_achieved']>150) & (df['max_heart_rate_achieved']<=160)),'max_heart_rate_achieved']=4\n",
    "df.loc[((df['max_heart_rate_achieved']>160) & (df['max_heart_rate_achieved']<=170)),'max_heart_rate_achieved']=5\n",
    "\n",
    "df.loc[((df['max_heart_rate_achieved']>170) & (df['max_heart_rate_achieved']<=180)),'max_heart_rate_achieved']=6\n",
    "\n",
    "df.loc[(df['max_heart_rate_achieved']>180),'max_heart_rate_achieved']=7"
   ]
  },
  {
   "cell_type": "code",
   "execution_count": 295,
   "metadata": {},
   "outputs": [
    {
     "data": {
      "text/plain": [
       "<matplotlib.axes._subplots.AxesSubplot at 0x1b2b0ac4fd0>"
      ]
     },
     "execution_count": 295,
     "metadata": {},
     "output_type": "execute_result"
    },
    {
     "data": {
      "image/png": "[encoded data removed]",
      "text/plain": [
       "<Figure size 432x288 with 1 Axes>"
      ]
     },
     "metadata": {},
     "output_type": "display_data"
    }
   ],
   "source": [
    "sns.countplot(df['max_heart_rate_achieved'])"
   ]
  },
  {
   "cell_type": "code",
   "execution_count": 325,
   "metadata": {},
   "outputs": [],
   "source": [
    "df.loc[((df['resting_blood_pressure']==120) | (df['resting_blood_pressure']==130) | (df['resting_blood_pressure']==140)),'resting_blood_pressure']=1"
   ]
  },
  {
   "cell_type": "code",
   "execution_count": 348,
   "metadata": {},
   "outputs": [
    {
     "data": {
      "text/plain": [
       "(94, 180)"
      ]
     },
     "execution_count": 348,
     "metadata": {},
     "output_type": "execute_result"
    }
   ],
   "source": [
    "df['resting_blood_pressure'].min(),df['resting_blood_pressure'].max()"
   ]
  },
  {
   "cell_type": "code",
   "execution_count": 353,
   "metadata": {},
   "outputs": [],
   "source": [
    "df.loc[df['resting_blood_pressure']<=100,'resting_blood_pressure']=1\n",
    "df.loc[((df['resting_blood_pressure']>100) & (df['resting_blood_pressure']<=110)),'resting_blood_pressure']=2\n",
    "df.loc[((df['resting_blood_pressure']>110) & (df['resting_blood_pressure']<=120)),'resting_blood_pressure']=3\n",
    "\n",
    "df.loc[((df['resting_blood_pressure']>120) & (df['resting_blood_pressure']<=130)),'resting_blood_pressure']=4\n",
    "df.loc[((df['resting_blood_pressure']>130) & (df['resting_blood_pressure']<=140)),'resting_blood_pressure']=5\n",
    "\n",
    "df.loc[((df['resting_blood_pressure']>140) & (df['resting_blood_pressure']<=150)),'resting_blood_pressure']=6\n",
    "df.loc[((df['resting_blood_pressure']>150) & (df['resting_blood_pressure']<=160)),'resting_blood_pressure']=7\n",
    "\n",
    "df.loc[((df['resting_blood_pressure']>160) & (df['resting_blood_pressure']<=170)),'resting_blood_pressure']=8\n",
    "df.loc[(df['resting_blood_pressure']>170),'resting_blood_pressure']=9"
   ]
  },
  {
   "cell_type": "code",
   "execution_count": 354,
   "metadata": {},
   "outputs": [
    {
     "data": {
      "text/plain": [
       "<matplotlib.axes._subplots.AxesSubplot at 0x1b2b2170160>"
      ]
     },
     "execution_count": 354,
     "metadata": {},
     "output_type": "execute_result"
    },
    {
     "data": {
      "image/png": "[encoded data removed]",
      "text/plain": [
       "<Figure size 432x288 with 1 Axes>"
      ]
     },
     "metadata": {},
     "output_type": "display_data"
    }
   ],
   "source": [
    "sns.countplot(df['resting_blood_pressure'])"
   ]
  },
  {
   "cell_type": "code",
   "execution_count": 385,
   "metadata": {},
   "outputs": [],
   "source": [
    "df['thal']=df['thal'].map({'normal':1,'reversible_defect':2, 'fixed_defect':3 })"
   ]
  },
  {
   "cell_type": "code",
   "execution_count": 390,
   "metadata": {},
   "outputs": [
    {
     "data": {
      "text/html": [
       "<div>\n",
       "<style scoped>\n",
       "    .dataframe tbody tr th:only-of-type {\n",
       "        vertical-align: middle;\n",
       "    }\n",
       "\n",
       "    .dataframe tbody tr th {\n",
       "        vertical-align: top;\n",
       "    }\n",
       "\n",
       "    .dataframe thead th {\n",
       "        text-align: right;\n",
       "    }\n",
       "</style>\n",
       "<table border=\"1\" class=\"dataframe\">\n",
       "  <thead>\n",
       "    <tr style=\"text-align: right;\">\n",
       "      <th></th>\n",
       "      <th>slope_of_peak_exercise_st_segment</th>\n",
       "      <th>thal</th>\n",
       "      <th>resting_blood_pressure</th>\n",
       "      <th>chest_pain_type</th>\n",
       "      <th>num_major_vessels</th>\n",
       "      <th>fasting_blood_sugar_gt_120_mg_per_dl</th>\n",
       "      <th>resting_ekg_results</th>\n",
       "      <th>serum_cholesterol_mg_per_dl</th>\n",
       "      <th>oldpeak_eq_st_depression</th>\n",
       "      <th>sex</th>\n",
       "      <th>age</th>\n",
       "      <th>max_heart_rate_achieved</th>\n",
       "      <th>exercise_induced_angina</th>\n",
       "      <th>heart_disease_present</th>\n",
       "    </tr>\n",
       "  </thead>\n",
       "  <tbody>\n",
       "    <tr>\n",
       "      <th>0</th>\n",
       "      <td>1</td>\n",
       "      <td>1</td>\n",
       "      <td>128</td>\n",
       "      <td>2</td>\n",
       "      <td>0</td>\n",
       "      <td>0</td>\n",
       "      <td>2</td>\n",
       "      <td>308</td>\n",
       "      <td>0.0</td>\n",
       "      <td>1</td>\n",
       "      <td>45</td>\n",
       "      <td>170</td>\n",
       "      <td>0</td>\n",
       "      <td>0</td>\n",
       "    </tr>\n",
       "    <tr>\n",
       "      <th>1</th>\n",
       "      <td>2</td>\n",
       "      <td>1</td>\n",
       "      <td>110</td>\n",
       "      <td>3</td>\n",
       "      <td>0</td>\n",
       "      <td>0</td>\n",
       "      <td>0</td>\n",
       "      <td>214</td>\n",
       "      <td>1.6</td>\n",
       "      <td>0</td>\n",
       "      <td>54</td>\n",
       "      <td>158</td>\n",
       "      <td>0</td>\n",
       "      <td>0</td>\n",
       "    </tr>\n",
       "    <tr>\n",
       "      <th>2</th>\n",
       "      <td>1</td>\n",
       "      <td>1</td>\n",
       "      <td>125</td>\n",
       "      <td>4</td>\n",
       "      <td>3</td>\n",
       "      <td>0</td>\n",
       "      <td>2</td>\n",
       "      <td>304</td>\n",
       "      <td>0.0</td>\n",
       "      <td>1</td>\n",
       "      <td>77</td>\n",
       "      <td>162</td>\n",
       "      <td>1</td>\n",
       "      <td>1</td>\n",
       "    </tr>\n",
       "    <tr>\n",
       "      <th>3</th>\n",
       "      <td>1</td>\n",
       "      <td>2</td>\n",
       "      <td>152</td>\n",
       "      <td>4</td>\n",
       "      <td>0</td>\n",
       "      <td>0</td>\n",
       "      <td>0</td>\n",
       "      <td>223</td>\n",
       "      <td>0.0</td>\n",
       "      <td>1</td>\n",
       "      <td>40</td>\n",
       "      <td>181</td>\n",
       "      <td>0</td>\n",
       "      <td>1</td>\n",
       "    </tr>\n",
       "    <tr>\n",
       "      <th>4</th>\n",
       "      <td>3</td>\n",
       "      <td>2</td>\n",
       "      <td>178</td>\n",
       "      <td>1</td>\n",
       "      <td>0</td>\n",
       "      <td>0</td>\n",
       "      <td>2</td>\n",
       "      <td>270</td>\n",
       "      <td>4.2</td>\n",
       "      <td>1</td>\n",
       "      <td>59</td>\n",
       "      <td>145</td>\n",
       "      <td>0</td>\n",
       "      <td>0</td>\n",
       "    </tr>\n",
       "  </tbody>\n",
       "</table>\n",
       "</div>"
      ],
      "text/plain": [
       "   slope_of_peak_exercise_st_segment  thal  resting_blood_pressure  \\\n",
       "0                                  1     1                     128   \n",
       "1                                  2     1                     110   \n",
       "2                                  1     1                     125   \n",
       "3                                  1     2                     152   \n",
       "4                                  3     2                     178   \n",
       "\n",
       "   chest_pain_type  num_major_vessels  fasting_blood_sugar_gt_120_mg_per_dl  \\\n",
       "0                2                  0                                     0   \n",
       "1                3                  0                                     0   \n",
       "2                4                  3                                     0   \n",
       "3                4                  0                                     0   \n",
       "4                1                  0                                     0   \n",
       "\n",
       "   resting_ekg_results  serum_cholesterol_mg_per_dl  oldpeak_eq_st_depression  \\\n",
       "0                    2                          308                       0.0   \n",
       "1                    0                          214                       1.6   \n",
       "2                    2                          304                       0.0   \n",
       "3                    0                          223                       0.0   \n",
       "4                    2                          270                       4.2   \n",
       "\n",
       "   sex  age  max_heart_rate_achieved  exercise_induced_angina  \\\n",
       "0    1   45                      170                        0   \n",
       "1    0   54                      158                        0   \n",
       "2    1   77                      162                        1   \n",
       "3    1   40                      181                        0   \n",
       "4    1   59                      145                        0   \n",
       "\n",
       "   heart_disease_present  \n",
       "0                      0  \n",
       "1                      0  \n",
       "2                      1  \n",
       "3                      1  \n",
       "4                      0  "
      ]
     },
     "execution_count": 390,
     "metadata": {},
     "output_type": "execute_result"
    }
   ],
   "source": [
    "df.head()"
   ]
  },
  {
   "cell_type": "code",
   "execution_count": 382,
   "metadata": {},
   "outputs": [
    {
     "data": {
      "text/plain": [
       "Index(['slope_of_peak_exercise_st_segment', 'thal', 'resting_blood_pressure',\n",
       "       'chest_pain_type', 'num_major_vessels',\n",
       "       'fasting_blood_sugar_gt_120_mg_per_dl', 'resting_ekg_results',\n",
       "       'serum_cholesterol_mg_per_dl', 'oldpeak_eq_st_depression', 'sex', 'age',\n",
       "       'max_heart_rate_achieved', 'exercise_induced_angina',\n",
       "       'heart_disease_present'],\n",
       "      dtype='object')"
      ]
     },
     "execution_count": 382,
     "metadata": {},
     "output_type": "execute_result"
    }
   ],
   "source": [
    "names=df.columns\n",
    "names"
   ]
  },
  {
   "cell_type": "code",
   "execution_count": 386,
   "metadata": {},
   "outputs": [],
   "source": [
    "x=np.asarray(df[names[:-1]])\n",
    "y=np.asarray(df[names[-1]])"
   ]
  },
  {
   "cell_type": "code",
   "execution_count": 387,
   "metadata": {},
   "outputs": [],
   "source": [
    "scaler= StandardScaler()\n",
    "x=scaler.fit_transform(x)"
   ]
  },
  {
   "cell_type": "code",
   "execution_count": 373,
   "metadata": {},
   "outputs": [
    {
     "data": {
      "text/plain": [
       "((180, 13), (180,))"
      ]
     },
     "execution_count": 373,
     "metadata": {},
     "output_type": "execute_result"
    }
   ],
   "source": [
    "x.shape, y.shape"
   ]
  },
  {
   "cell_type": "code",
   "execution_count": 388,
   "metadata": {},
   "outputs": [
    {
     "data": {
      "text/plain": [
       "RandomForestClassifier(bootstrap=True, class_weight=None, criterion='gini',\n",
       "            max_depth=None, max_features='auto', max_leaf_nodes=None,\n",
       "            min_impurity_decrease=0.0, min_impurity_split=None,\n",
       "            min_samples_leaf=1, min_samples_split=2,\n",
       "            min_weight_fraction_leaf=0.0, n_estimators=50, n_jobs=1,\n",
       "            oob_score=False, random_state=None, verbose=0,\n",
       "            warm_start=False)"
      ]
     },
     "execution_count": 388,
     "metadata": {},
     "output_type": "execute_result"
    }
   ],
   "source": [
    "rf= RandomForestClassifier(n_estimators=50)\n",
    "rf.fit(x,y)"
   ]
  },
  {
   "cell_type": "code",
   "execution_count": 33,
   "metadata": {},
   "outputs": [
    {
     "data": {
      "text/plain": [
       "([<matplotlib.axis.XTick at 0x21ef496a7f0>,\n",
       "  <matplotlib.axis.XTick at 0x21ef496a128>,\n",
       "  <matplotlib.axis.XTick at 0x21ef4960eb8>,\n",
       "  <matplotlib.axis.XTick at 0x21ef4985d30>,\n",
       "  <matplotlib.axis.XTick at 0x21ef498d240>,\n",
       "  <matplotlib.axis.XTick at 0x21ef498d710>,\n",
       "  <matplotlib.axis.XTick at 0x21ef498dbe0>,\n",
       "  <matplotlib.axis.XTick at 0x21ef4994160>,\n",
       "  <matplotlib.axis.XTick at 0x21ef49945c0>,\n",
       "  <matplotlib.axis.XTick at 0x21ef4994ac8>,\n",
       "  <matplotlib.axis.XTick at 0x21ef4994cf8>,\n",
       "  <matplotlib.axis.XTick at 0x21ef4994518>,\n",
       "  <matplotlib.axis.XTick at 0x21ef498da58>],\n",
       " <a list of 13 Text xticklabel objects>)"
      ]
     },
     "execution_count": 33,
     "metadata": {},
     "output_type": "execute_result"
    },
    {
     "data": {
      "image/png": "[encoded data removed]",
      "text/plain": [
       "<Figure size 1080x360 with 1 Axes>"
      ]
     },
     "metadata": {},
     "output_type": "display_data"
    }
   ],
   "source": [
    "plt.figure(figsize=[15,5])\n",
    "plt.plot(rf.feature_importances_)\n",
    "plt.xticks(np.arange(df.shape[1]-1), names[:-1], rotation=90)"
   ]
  },
  {
   "cell_type": "code",
   "execution_count": 46,
   "metadata": {},
   "outputs": [
    {
     "data": {
      "text/plain": [
       "<matplotlib.axes._subplots.AxesSubplot at 0x21ef55162b0>"
      ]
     },
     "execution_count": 46,
     "metadata": {},
     "output_type": "execute_result"
    },
    {
     "data": {
      "image/png": "[encoded data removed]",
      "text/plain": [
       "<Figure size 432x288 with 1 Axes>"
      ]
     },
     "metadata": {},
     "output_type": "display_data"
    }
   ],
   "source": [
    "sns.countplot(df[names[-1]])"
   ]
  },
  {
   "cell_type": "code",
   "execution_count": 37,
   "metadata": {},
   "outputs": [
    {
     "data": {
      "text/plain": [
       "<matplotlib.axes._subplots.AxesSubplot at 0x21ef4c08358>"
      ]
     },
     "execution_count": 37,
     "metadata": {},
     "output_type": "execute_result"
    },
    {
     "data": {
      "image/png": "[encoded data removed]",
      "text/plain": [
       "<Figure size 1080x360 with 1 Axes>"
      ]
     },
     "metadata": {},
     "output_type": "display_data"
    }
   ],
   "source": [
    "plt.figure(figsize=[15,5])\n",
    "sns.countplot(df['thal'], hue=df[names[-1]])"
   ]
  },
  {
   "cell_type": "code",
   "execution_count": 39,
   "metadata": {},
   "outputs": [
    {
     "data": {
      "text/plain": [
       "<matplotlib.axes._subplots.AxesSubplot at 0x21ef49e95c0>"
      ]
     },
     "execution_count": 39,
     "metadata": {},
     "output_type": "execute_result"
    },
    {
     "data": {
      "image/png": "[encoded data removed]",
      "text/plain": [
       "<Figure size 1080x360 with 1 Axes>"
      ]
     },
     "metadata": {},
     "output_type": "display_data"
    }
   ],
   "source": [
    "plt.figure(figsize=[15,5])\n",
    "sns.countplot(df['chest_pain_type'], hue=df[names[-1]])"
   ]
  },
  {
   "cell_type": "code",
   "execution_count": 335,
   "metadata": {},
   "outputs": [],
   "source": [
    "kf=KFold(n_splits=5, random_state=None, shuffle=False)\n",
    "\n",
    "rf= RandomForestClassifier(n_estimators=30, criterion='entropy',max_depth=5,min_samples_split=5)\n",
    "gb=GradientBoostingClassifier(n_estimators=10,max_depth= 5, min_samples_leaf= 2)\n",
    "ab=AdaBoostClassifier(n_estimators=500)\n",
    "lr=LogisticRegression(C=0.07)\n",
    "et=ExtraTreesClassifier(n_estimators=50,max_depth= 8, min_samples_leaf= 2,verbose= 0)\n",
    "\n",
    "rf_train, rf_test=[],[]\n",
    "gb_train, gb_test= [],[]\n",
    "ab_train, ab_test= [],[]\n",
    "lr_train, lr_test=[],[]\n",
    "et_train, et_test=[],[]\n",
    "#sp1,sp2=[],[]\n",
    "\n",
    "for train_index, test_index in kf.split(x):\n",
    "    \n",
    "    xtrain, xtest= x[train_index], x[test_index]\n",
    "    ytrain, ytest= y[train_index], y[test_index]\n",
    "    \n",
    "    rf.fit(xtrain, ytrain)\n",
    "    predict1=rf.predict_proba(xtrain)\n",
    "    predict2= rf.predict_proba(xtest)\n",
    "    a=rf.predict(xtest)\n",
    "    a_=rf.predict(xtrain)\n",
    "    \n",
    "    rf_train.append(log_loss(ytrain, predict1))\n",
    "    rf_test.append(log_loss(ytest, predict2))\n",
    "    \n",
    "    gb.fit(xtrain, ytrain)\n",
    "    predict3=gb.predict_proba(xtrain)\n",
    "    predict4= gb.predict_proba(xtest)\n",
    "    b=gb.predict(xtest)\n",
    "    b_=gb.predict(xtrain)\n",
    "    \n",
    "    gb_train.append(log_loss(ytrain, predict3))\n",
    "    gb_test.append(log_loss(ytest, predict4))\n",
    "    \n",
    "    ab.fit(xtrain, ytrain)\n",
    "    predict5=ab.predict_proba(xtrain)\n",
    "    predict6= ab.predict_proba(xtest)\n",
    "    c= ab.predict(xtest)\n",
    "    c_= ab.predict(xtrain)\n",
    "    \n",
    "    ab_train.append(log_loss(ytrain, predict5))\n",
    "    ab_test.append(log_loss(ytest, predict6))\n",
    "    \n",
    "    lr.fit(xtrain, ytrain)\n",
    "    predict7=lr.predict_proba(xtrain)\n",
    "    predict8= lr.predict_proba(xtest)\n",
    "    d=lr.predict(xtest)\n",
    "    d_=lr.predict(xtrain)\n",
    "    \n",
    "    lr_train.append(log_loss(ytrain, predict7))\n",
    "    lr_test.append(log_loss(ytest, predict8))\n",
    "    \n",
    "    et.fit(xtrain, ytrain)\n",
    "    predict9=et.predict_proba(xtrain)\n",
    "    predict10= et.predict_proba(xtest)\n",
    "    e=et.predict(xtest)\n",
    "    e_=et.predict(xtrain)\n",
    "    \n",
    "    et_train.append(log_loss(ytrain, predict9))\n",
    "    et_test.append(log_loss(ytest, predict10))\n",
    "    \n",
    "    #stack1= pd.concat([pd.DataFrame(a),pd.DataFrame(b),pd.DataFrame(c),pd.DataFrame(d),pd.DataFrame(e)],axis=1)\n",
    "    #stack2=pd.concat([pd.DataFrame(a_),pd.DataFrame(b_),pd.DataFrame(c_),pd.DataFrame(d_),pd.DataFrame(e_)],axis=1)\n",
    "    \n",
    "    #stack1_= np.asarray(stack1)\n",
    "    #stack2_= np.asarray(stack2)\n",
    "    \n",
    "    #et.fit(stack2_, ytrain)\n",
    "    #pr1=et.predict_proba(stack2_)\n",
    "    #pr2= et.predict_proba(stack1_)\n",
    "    \n",
    "    #sp1.append(log_loss(ytrain, pr1))\n",
    "    #sp2.append(log_loss(ytest, pr2))"
   ]
  },
  {
   "cell_type": "code",
   "execution_count": 337,
   "metadata": {},
   "outputs": [
    {
     "name": "stdout",
     "output_type": "stream",
     "text": [
      "RF train:  0.25842326104801605 test:  0.4316075500050892\n",
      "\n",
      "GB train:  0.2846520961326059 test:  0.5103467586452016\n",
      "\n",
      "AB train:  0.6840028270002045 test:  0.6859839918294859\n",
      "\n",
      "LR train:  0.39157771907557076 test:  0.4321981860719342\n",
      "\n",
      "ET train:  0.22317907752921587 test:  0.42743650890803747\n"
     ]
    }
   ],
   "source": [
    "print(\"RF train: \", np.array(rf_train).mean(),\"test: \", np.array(rf_test).mean() )\n",
    "print(\"\\nGB train: \", np.array(gb_train).mean(),\"test: \", np.array(gb_test).mean() )\n",
    "print(\"\\nAB train: \", np.array(ab_train).mean(),\"test: \", np.array(ab_test).mean() )\n",
    "print(\"\\nLR train: \", np.array(lr_train).mean(),\"test: \", np.array(lr_test).mean() )\n",
    "print(\"\\nET train: \", np.array(et_train).mean(),\"test: \", np.array(et_test).mean() )\n",
    "#print(\"\\nST train: \", np.array(sp1).mean(),\"test: \", np.array(sp2).mean() )"
   ]
  },
  {
   "cell_type": "code",
   "execution_count": 359,
   "metadata": {},
   "outputs": [
    {
     "data": {
      "text/plain": [
       "ExtraTreesClassifier(bootstrap=False, class_weight=None, criterion='gini',\n",
       "           max_depth=8, max_features='auto', max_leaf_nodes=None,\n",
       "           min_impurity_decrease=0.0, min_impurity_split=None,\n",
       "           min_samples_leaf=2, min_samples_split=2,\n",
       "           min_weight_fraction_leaf=0.0, n_estimators=50, n_jobs=1,\n",
       "           oob_score=False, random_state=None, verbose=0, warm_start=False)"
      ]
     },
     "execution_count": 359,
     "metadata": {},
     "output_type": "execute_result"
    }
   ],
   "source": [
    "et=ExtraTreesClassifier(n_estimators=50,max_depth= 8, min_samples_leaf= 2,verbose= 0)\n",
    "et.fit(x,y)"
   ]
  },
  {
   "cell_type": "markdown",
   "metadata": {},
   "source": [
    "### Testing"
   ]
  },
  {
   "cell_type": "code",
   "execution_count": 128,
   "metadata": {},
   "outputs": [
    {
     "data": {
      "text/html": [
       "<div>\n",
       "<style scoped>\n",
       "    .dataframe tbody tr th:only-of-type {\n",
       "        vertical-align: middle;\n",
       "    }\n",
       "\n",
       "    .dataframe tbody tr th {\n",
       "        vertical-align: top;\n",
       "    }\n",
       "\n",
       "    .dataframe thead th {\n",
       "        text-align: right;\n",
       "    }\n",
       "</style>\n",
       "<table border=\"1\" class=\"dataframe\">\n",
       "  <thead>\n",
       "    <tr style=\"text-align: right;\">\n",
       "      <th></th>\n",
       "      <th>patient_id</th>\n",
       "      <th>slope_of_peak_exercise_st_segment</th>\n",
       "      <th>thal</th>\n",
       "      <th>resting_blood_pressure</th>\n",
       "      <th>chest_pain_type</th>\n",
       "      <th>num_major_vessels</th>\n",
       "      <th>fasting_blood_sugar_gt_120_mg_per_dl</th>\n",
       "      <th>resting_ekg_results</th>\n",
       "      <th>serum_cholesterol_mg_per_dl</th>\n",
       "      <th>oldpeak_eq_st_depression</th>\n",
       "      <th>sex</th>\n",
       "      <th>age</th>\n",
       "      <th>max_heart_rate_achieved</th>\n",
       "      <th>exercise_induced_angina</th>\n",
       "    </tr>\n",
       "  </thead>\n",
       "  <tbody>\n",
       "    <tr>\n",
       "      <th>0</th>\n",
       "      <td>olalu7</td>\n",
       "      <td>2</td>\n",
       "      <td>reversible_defect</td>\n",
       "      <td>170</td>\n",
       "      <td>1</td>\n",
       "      <td>0</td>\n",
       "      <td>0</td>\n",
       "      <td>2</td>\n",
       "      <td>288</td>\n",
       "      <td>0.2</td>\n",
       "      <td>1</td>\n",
       "      <td>59</td>\n",
       "      <td>159</td>\n",
       "      <td>0</td>\n",
       "    </tr>\n",
       "    <tr>\n",
       "      <th>1</th>\n",
       "      <td>z9n6mx</td>\n",
       "      <td>1</td>\n",
       "      <td>normal</td>\n",
       "      <td>138</td>\n",
       "      <td>4</td>\n",
       "      <td>0</td>\n",
       "      <td>0</td>\n",
       "      <td>0</td>\n",
       "      <td>183</td>\n",
       "      <td>1.4</td>\n",
       "      <td>0</td>\n",
       "      <td>35</td>\n",
       "      <td>182</td>\n",
       "      <td>0</td>\n",
       "    </tr>\n",
       "    <tr>\n",
       "      <th>2</th>\n",
       "      <td>5k4413</td>\n",
       "      <td>2</td>\n",
       "      <td>reversible_defect</td>\n",
       "      <td>120</td>\n",
       "      <td>4</td>\n",
       "      <td>0</td>\n",
       "      <td>0</td>\n",
       "      <td>2</td>\n",
       "      <td>177</td>\n",
       "      <td>2.5</td>\n",
       "      <td>1</td>\n",
       "      <td>43</td>\n",
       "      <td>120</td>\n",
       "      <td>1</td>\n",
       "    </tr>\n",
       "    <tr>\n",
       "      <th>3</th>\n",
       "      <td>mrg7q5</td>\n",
       "      <td>1</td>\n",
       "      <td>normal</td>\n",
       "      <td>102</td>\n",
       "      <td>3</td>\n",
       "      <td>1</td>\n",
       "      <td>0</td>\n",
       "      <td>0</td>\n",
       "      <td>318</td>\n",
       "      <td>0.0</td>\n",
       "      <td>0</td>\n",
       "      <td>60</td>\n",
       "      <td>160</td>\n",
       "      <td>0</td>\n",
       "    </tr>\n",
       "    <tr>\n",
       "      <th>4</th>\n",
       "      <td>uki4do</td>\n",
       "      <td>2</td>\n",
       "      <td>normal</td>\n",
       "      <td>138</td>\n",
       "      <td>4</td>\n",
       "      <td>1</td>\n",
       "      <td>0</td>\n",
       "      <td>2</td>\n",
       "      <td>166</td>\n",
       "      <td>3.6</td>\n",
       "      <td>1</td>\n",
       "      <td>61</td>\n",
       "      <td>125</td>\n",
       "      <td>1</td>\n",
       "    </tr>\n",
       "  </tbody>\n",
       "</table>\n",
       "</div>"
      ],
      "text/plain": [
       "  patient_id  slope_of_peak_exercise_st_segment               thal  \\\n",
       "0     olalu7                                  2  reversible_defect   \n",
       "1     z9n6mx                                  1             normal   \n",
       "2     5k4413                                  2  reversible_defect   \n",
       "3     mrg7q5                                  1             normal   \n",
       "4     uki4do                                  2             normal   \n",
       "\n",
       "   resting_blood_pressure  chest_pain_type  num_major_vessels  \\\n",
       "0                     170                1                  0   \n",
       "1                     138                4                  0   \n",
       "2                     120                4                  0   \n",
       "3                     102                3                  1   \n",
       "4                     138                4                  1   \n",
       "\n",
       "   fasting_blood_sugar_gt_120_mg_per_dl  resting_ekg_results  \\\n",
       "0                                     0                    2   \n",
       "1                                     0                    0   \n",
       "2                                     0                    2   \n",
       "3                                     0                    0   \n",
       "4                                     0                    2   \n",
       "\n",
       "   serum_cholesterol_mg_per_dl  oldpeak_eq_st_depression  sex  age  \\\n",
       "0                          288                       0.2    1   59   \n",
       "1                          183                       1.4    0   35   \n",
       "2                          177                       2.5    1   43   \n",
       "3                          318                       0.0    0   60   \n",
       "4                          166                       3.6    1   61   \n",
       "\n",
       "   max_heart_rate_achieved  exercise_induced_angina  \n",
       "0                      159                        0  \n",
       "1                      182                        0  \n",
       "2                      120                        1  \n",
       "3                      160                        0  \n",
       "4                      125                        1  "
      ]
     },
     "execution_count": 128,
     "metadata": {},
     "output_type": "execute_result"
    }
   ],
   "source": [
    "test.head()"
   ]
  },
  {
   "cell_type": "code",
   "execution_count": 361,
   "metadata": {},
   "outputs": [],
   "source": [
    "idd= test['patient_id']\n",
    "test['thal']=test['thal'].map({'normal':1,'reversible_defect':2, 'fixed_defect':3 })\n",
    "test.drop(['patient_id'], axis=1, inplace=True)\n"
   ]
  },
  {
   "cell_type": "code",
   "execution_count": 355,
   "metadata": {},
   "outputs": [],
   "source": [
    "test.loc[test['serum_cholesterol_mg_per_dl']<=150,'serum_cholesterol_mg_per_dl']=1\n",
    "test.loc[((test['serum_cholesterol_mg_per_dl']>150) & (test['serum_cholesterol_mg_per_dl']<=170)),'serum_cholesterol_mg_per_dl']=2\n",
    "test.loc[((test['serum_cholesterol_mg_per_dl']>170) & (test['serum_cholesterol_mg_per_dl']<=190)),'serum_cholesterol_mg_per_dl']=3\n",
    "test.loc[((test['serum_cholesterol_mg_per_dl']>190) & (test['serum_cholesterol_mg_per_dl']<=210)),'serum_cholesterol_mg_per_dl']=4\n",
    "test.loc[((test['serum_cholesterol_mg_per_dl']>210) & (test['serum_cholesterol_mg_per_dl']<=230)),'serum_cholesterol_mg_per_dl']=5\n",
    "test.loc[((test['serum_cholesterol_mg_per_dl']>230) & (test['serum_cholesterol_mg_per_dl']<=250)),'serum_cholesterol_mg_per_dl']=6\n",
    "test.loc[((test['serum_cholesterol_mg_per_dl']>250) & (test['serum_cholesterol_mg_per_dl']<=270)),'serum_cholesterol_mg_per_dl']=7\n",
    "\n",
    "test.loc[((test['serum_cholesterol_mg_per_dl']>270) & (test['serum_cholesterol_mg_per_dl']<=290)),'serum_cholesterol_mg_per_dl']=8\n",
    "test.loc[((test['serum_cholesterol_mg_per_dl']>290) & (test['serum_cholesterol_mg_per_dl']<=310)),'serum_cholesterol_mg_per_dl']=9\n",
    "test.loc[((test['serum_cholesterol_mg_per_dl']>310) & (test['serum_cholesterol_mg_per_dl']<=330)),'serum_cholesterol_mg_per_dl']=10\n",
    "test.loc[((test['serum_cholesterol_mg_per_dl']>330) & (test['serum_cholesterol_mg_per_dl']<=350)),'serum_cholesterol_mg_per_dl']=11\n",
    "test.loc[(test['serum_cholesterol_mg_per_dl']>350),'serum_cholesterol_mg_per_dl']=12\n",
    "\n",
    "test.loc[test['age']<=35,'age']=1\n",
    "test.loc[((test['age']>35) & (test['age']<=40)),'age']=2\n",
    "test.loc[((test['age']>40) & (test['age']<=45)),'age']=3\n",
    "test.loc[((test['age']>45) & (test['age']<=50)),'age']=4\n",
    "\n",
    "test.loc[((test['age']>50) & (test['age']<=55)),'age']=5\n",
    "test.loc[((test['age']>55) & (test['age']<=60)),'age']=6\n",
    "test.loc[((test['age']>60) & (test['age']<=65)),'age']=7\n",
    "test.loc[(test['age']>65),'age']=8\n",
    "\n",
    "test.loc[test['max_heart_rate_achieved']<=130,'max_heart_rate_achieved']=1\n",
    "test.loc[((test['max_heart_rate_achieved']>130) & (test['max_heart_rate_achieved']<=140)),'max_heart_rate_achieved']=2\n",
    "test.loc[((test['max_heart_rate_achieved']>140) & (test['max_heart_rate_achieved']<=150)),'max_heart_rate_achieved']=3\n",
    "\n",
    "test.loc[((test['max_heart_rate_achieved']>150) & (test['max_heart_rate_achieved']<=160)),'max_heart_rate_achieved']=4\n",
    "test.loc[((test['max_heart_rate_achieved']>160) & (test['max_heart_rate_achieved']<=170)),'max_heart_rate_achieved']=5\n",
    "\n",
    "test.loc[((test['max_heart_rate_achieved']>170) & (test['max_heart_rate_achieved']<=180)),'max_heart_rate_achieved']=6\n",
    "\n",
    "test.loc[(test['max_heart_rate_achieved']>180),'max_heart_rate_achieved']=7\n",
    "\n",
    "test.loc[test['resting_blood_pressure']<=100,'resting_blood_pressure']=1\n",
    "test.loc[((test['resting_blood_pressure']>100) & (test['resting_blood_pressure']<=110)),'resting_blood_pressure']=2\n",
    "test.loc[((test['resting_blood_pressure']>110) & (test['resting_blood_pressure']<=120)),'resting_blood_pressure']=3\n",
    "\n",
    "test.loc[((test['resting_blood_pressure']>120) & (test['resting_blood_pressure']<=130)),'resting_blood_pressure']=4\n",
    "test.loc[((test['resting_blood_pressure']>130) & (test['resting_blood_pressure']<=140)),'resting_blood_pressure']=5\n",
    "\n",
    "test.loc[((test['resting_blood_pressure']>140) & (test['resting_blood_pressure']<=150)),'resting_blood_pressure']=6\n",
    "test.loc[((test['resting_blood_pressure']>150) & (test['resting_blood_pressure']<=160)),'resting_blood_pressure']=7\n",
    "\n",
    "test.loc[((test['resting_blood_pressure']>160) & (test['resting_blood_pressure']<=170)),'resting_blood_pressure']=8\n",
    "test.loc[(test['resting_blood_pressure']>170),'resting_blood_pressure']=9"
   ]
  },
  {
   "cell_type": "code",
   "execution_count": 362,
   "metadata": {},
   "outputs": [],
   "source": [
    "xx=np.asarray(test)\n",
    "\n",
    "xx=scaler.fit_transform(xx)"
   ]
  },
  {
   "cell_type": "code",
   "execution_count": 363,
   "metadata": {},
   "outputs": [],
   "source": [
    "predictions= et.predict_proba(xx)"
   ]
  },
  {
   "cell_type": "code",
   "execution_count": 364,
   "metadata": {},
   "outputs": [],
   "source": [
    "pred= predictions[:,1]"
   ]
  },
  {
   "cell_type": "code",
   "execution_count": 365,
   "metadata": {},
   "outputs": [
    {
     "data": {
      "text/plain": [
       "array([[0.60901673, 0.39098327],\n",
       "       [0.92585714, 0.07414286],\n",
       "       [0.15833333, 0.84166667],\n",
       "       [0.93469612, 0.06530388],\n",
       "       [0.23881191, 0.76118809]])"
      ]
     },
     "execution_count": 365,
     "metadata": {},
     "output_type": "execute_result"
    }
   ],
   "source": [
    "predictions[:5]"
   ]
  },
  {
   "cell_type": "code",
   "execution_count": 366,
   "metadata": {},
   "outputs": [
    {
     "data": {
      "text/plain": [
       "array([0.39098327, 0.07414286, 0.84166667, 0.06530388, 0.76118809])"
      ]
     },
     "execution_count": 366,
     "metadata": {},
     "output_type": "execute_result"
    }
   ],
   "source": [
    "pred[:5]"
   ]
  },
  {
   "cell_type": "code",
   "execution_count": 367,
   "metadata": {},
   "outputs": [],
   "source": [
    "data= pd.DataFrame({'patient_id':idd, 'heart_disease_present':pred})"
   ]
  },
  {
   "cell_type": "code",
   "execution_count": 368,
   "metadata": {},
   "outputs": [],
   "source": [
    "data.to_csv(\"submit.csv\", index=False)"
   ]
  }
 ],
 "metadata": {
  "kernelspec": {
   "display_name": "Python 3",
   "language": "python",
   "name": "python3"
  },
  "language_info": {
   "codemirror_mode": {
    "name": "ipython",
    "version": 3
   },
   "file_extension": ".py",
   "mimetype": "text/x-python",
   "name": "python",
   "nbconvert_exporter": "python",
   "pygments_lexer": "ipython3",
   "version": "3.6.5"
  }
 },
 "nbformat": 4,
 "nbformat_minor": 2
}
